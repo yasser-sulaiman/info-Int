{
 "cells": [
  {
   "cell_type": "markdown",
   "id": "53fbfabd-92b7-49cc-99ab-3a17b2fcfcac",
   "metadata": {
    "jp-MarkdownHeadingCollapsed": true
   },
   "source": [
    "# Imports"
   ]
  },
  {
   "cell_type": "code",
   "execution_count": 64,
   "id": "d0f4f1c0-4a93-44e4-be8c-458b833c96d3",
   "metadata": {},
   "outputs": [],
   "source": [
    "import pandas as pd # pip install pandas\n",
    "from difflib import SequenceMatcher\n",
    "from dateutil.parser import parse"
   ]
  },
  {
   "cell_type": "markdown",
   "metadata": {},
   "source": [
    "# Helper Functions"
   ]
  },
  {
   "cell_type": "code",
   "execution_count": 65,
   "metadata": {},
   "outputs": [],
   "source": [
    "def levenshtein_distance(s1, s2):\n",
    "    return SequenceMatcher(None, s1, s2).ratio()\n",
    "\n",
    "def convert_date_column(df, column_name):\n",
    "    df[column_name] = df[column_name].apply(lambda x: parse(x, dayfirst=True))\n",
    "    df[column_name] = df[column_name].dt.strftime('%d-%m-%Y')\n",
    "    df[column_name] = pd.to_datetime(df[column_name], format='%d-%m-%Y')"
   ]
  },
  {
   "cell_type": "markdown",
   "metadata": {},
   "source": [
    "# Load Data"
   ]
  },
  {
   "cell_type": "markdown",
   "metadata": {},
   "source": [
    "## Original Data Sources"
   ]
  },
  {
   "cell_type": "markdown",
   "id": "9bec16a9-1ccc-4183-aac4-c0ba3f0b1a6b",
   "metadata": {},
   "source": [
    "* Football Matches of Spanish League\n",
    "https://www.kaggle.com/datasets/ricardomoya/football-matches-of-spanish-league\n",
    "\n",
    "* Spanish League 1995-2023\n",
    "https://www.kaggle.com/datasets/kishan305/la-liga-results-19952020?select=LaLiga_Matches.csv\n",
    "\n",
    "* Premier League Matches 1993-2023\n",
    "https://www.kaggle.com/datasets/evangower/premier-league-matches-19922022\n",
    "\n",
    "* Turkish Super League Matches (1959-2021)\n",
    "https://www.kaggle.com/datasets/faruky/turkish-super-league-matches-19592020\n",
    "\n",
    "* France Football from 1950 to 2022\n",
    "https://www.kaggle.com/datasets/simonherv/france-football-from-1950-to-2022\n",
    "\n",
    "\n",
    "* Football | Bundesliga Seasons 2005/06 - 2022/23\n",
    "https://www.kaggle.com/datasets/oles04/bundesliga-seasons\n",
    "\n",
    "* Bundesliga Results 1993-2018\n",
    "https://www.kaggle.com/datasets/thefc17/bundesliga-results-19932018"
   ]
  },
  {
   "cell_type": "markdown",
   "id": "7736bf7d-955d-4dd8-a044-6e1b31c54d77",
   "metadata": {},
   "source": [
    "## Import from Github"
   ]
  },
  {
   "cell_type": "code",
   "execution_count": 66,
   "id": "84ada30e-298c-4640-ac69-03c58da50c2b",
   "metadata": {},
   "outputs": [],
   "source": [
    "Bundesliga_1993 = pd.read_csv('https://raw.githubusercontent.com/yasser-sulaiman/info-Int/main/data/Bundesliga%201993-2018.csv')\n",
    "Bundesliga_2005 = pd.read_csv('https://raw.githubusercontent.com/yasser-sulaiman/info-Int/main/data/Bundesliga%202005-2023.csv')\n",
    "France_League = pd.read_csv('https://raw.githubusercontent.com/yasser-sulaiman/info-Int/main/data/Ligue%201%201950-2022.csv')\n",
    "Turkish_League = pd.read_csv('https://raw.githubusercontent.com/yasser-sulaiman/info-Int/main/data/Turkish%20Super%20League%201959-2021.csv')\n",
    "Premier_League = pd.read_csv('https://raw.githubusercontent.com/yasser-sulaiman/info-Int/main/data/Premier%20League%201993-2023.csv')\n",
    "Spanish_League = pd.read_csv('https://raw.githubusercontent.com/yasser-sulaiman/info-Int/main/data/La%20Liga%201970-2017.csv')\n",
    "Spanish_League_1995 = pd.read_csv('https://raw.githubusercontent.com/yasser-sulaiman/info-Int/main/data/La%20Liga%201995-2023.csv')"
   ]
  },
  {
   "cell_type": "markdown",
   "id": "6315e140-a67b-4aba-a4ff-4e1756733a0a",
   "metadata": {},
   "source": [
    "## Import from Local Directory"
   ]
  },
  {
   "cell_type": "code",
   "execution_count": 67,
   "id": "096520a1-ec98-4b84-883b-9012e9e10363",
   "metadata": {},
   "outputs": [],
   "source": [
    "# Spanish_League = pd.read_csv('data/La Liga 1970-2017.csv')\n",
    "# Spanish_League_1995 = pd.read_csv('data/La Liga 1995-2023.csv')\n",
    "# Premier_League = pd.read_csv('data/Premier League 1993-2023.csv')\n",
    "# Turkish_League = pd.read_csv('data/Turkish Super League 1959-2021.csv')\n",
    "# France_League = pd.read_csv('data/Ligue 1 1950-2022.csv')\n",
    "# Bundesliga_2005 = pd.read_csv('data/Bundesliga 2005-2023.csv')\n",
    "# Bundesliga_1993 = pd.read_csv('data/Bundesliga 1993-2018.csv')"
   ]
  },
  {
   "cell_type": "markdown",
   "id": "2b342670-e374-4c51-b55c-91fe73fbd922",
   "metadata": {
    "jp-MarkdownHeadingCollapsed": true
   },
   "source": [
    "# Global Schema"
   ]
  },
  {
   "cell_type": "markdown",
   "id": "bf3ec2ff-770c-4d5f-8c4c-20824eaac3e5",
   "metadata": {},
   "source": [
    "* Our goal is to define a global schema for all datasets\n",
    "* We investigate the data and drop the unused columns\n",
    "* We apply some standardization and cleaning on the individual data sources if needed\n",
    "* We rename the columns to match the names in our suggested global schema\n",
    "* Suggested Global schema: [\"Date\", \"HomeTeam\", \"AwayTeam\", \"HomeGoals\", \"AwayGoals\", \"Winner\", \"League\", \"Year\"]\n",
    "* Finally we apply some standardization and cleaning on the integrated data"
   ]
  },
  {
   "cell_type": "markdown",
   "metadata": {},
   "source": [
    "# Prepare Sources for Merging"
   ]
  },
  {
   "cell_type": "markdown",
   "id": "1ff6b84d-2aa3-4142-9dce-83c0094c60c2",
   "metadata": {
    "jp-MarkdownHeadingCollapsed": true
   },
   "source": [
    "## Bundesliga_1993"
   ]
  },
  {
   "cell_type": "code",
   "execution_count": 68,
   "id": "ca02c036-7ac0-4b64-9d4b-651cfe35175f",
   "metadata": {},
   "outputs": [
    {
     "data": {
      "text/plain": [
       "Index(['Div', 'Date', 'HomeTeam', 'AwayTeam', 'FTHG', 'FTAG', 'FTR', 'HTHG',\n",
       "       'HTAG', 'HTR', 'Season'],\n",
       "      dtype='object')"
      ]
     },
     "execution_count": 68,
     "metadata": {},
     "output_type": "execute_result"
    }
   ],
   "source": [
    "Bundesliga_1993.columns"
   ]
  },
  {
   "cell_type": "code",
   "execution_count": 70,
   "id": "aef9ef6d-dc68-470b-9a9b-c476cf5e2d84",
   "metadata": {},
   "outputs": [
    {
     "data": {
      "text/html": [
       "<div>\n",
       "<style scoped>\n",
       "    .dataframe tbody tr th:only-of-type {\n",
       "        vertical-align: middle;\n",
       "    }\n",
       "\n",
       "    .dataframe tbody tr th {\n",
       "        vertical-align: top;\n",
       "    }\n",
       "\n",
       "    .dataframe thead th {\n",
       "        text-align: right;\n",
       "    }\n",
       "</style>\n",
       "<table border=\"1\" class=\"dataframe\">\n",
       "  <thead>\n",
       "    <tr style=\"text-align: right;\">\n",
       "      <th></th>\n",
       "      <th>Date</th>\n",
       "      <th>HomeTeam</th>\n",
       "      <th>AwayTeam</th>\n",
       "      <th>HomeGoals</th>\n",
       "      <th>AwayGoals</th>\n",
       "      <th>Winner</th>\n",
       "      <th>League</th>\n",
       "    </tr>\n",
       "  </thead>\n",
       "  <tbody>\n",
       "    <tr>\n",
       "      <th>0</th>\n",
       "      <td>7/8/1993</td>\n",
       "      <td>Bayern Munich</td>\n",
       "      <td>Freiburg</td>\n",
       "      <td>3</td>\n",
       "      <td>1</td>\n",
       "      <td>H</td>\n",
       "      <td>Bundesliga</td>\n",
       "    </tr>\n",
       "    <tr>\n",
       "      <th>1</th>\n",
       "      <td>7/8/1993</td>\n",
       "      <td>Dortmund</td>\n",
       "      <td>Karlsruhe</td>\n",
       "      <td>2</td>\n",
       "      <td>1</td>\n",
       "      <td>H</td>\n",
       "      <td>Bundesliga</td>\n",
       "    </tr>\n",
       "    <tr>\n",
       "      <th>2</th>\n",
       "      <td>7/8/1993</td>\n",
       "      <td>Duisburg</td>\n",
       "      <td>Leverkusen</td>\n",
       "      <td>2</td>\n",
       "      <td>2</td>\n",
       "      <td>D</td>\n",
       "      <td>Bundesliga</td>\n",
       "    </tr>\n",
       "    <tr>\n",
       "      <th>3</th>\n",
       "      <td>7/8/1993</td>\n",
       "      <td>FC Koln</td>\n",
       "      <td>Kaiserslautern</td>\n",
       "      <td>0</td>\n",
       "      <td>2</td>\n",
       "      <td>A</td>\n",
       "      <td>Bundesliga</td>\n",
       "    </tr>\n",
       "    <tr>\n",
       "      <th>4</th>\n",
       "      <td>7/8/1993</td>\n",
       "      <td>Hamburg</td>\n",
       "      <td>Nurnberg</td>\n",
       "      <td>5</td>\n",
       "      <td>2</td>\n",
       "      <td>H</td>\n",
       "      <td>Bundesliga</td>\n",
       "    </tr>\n",
       "  </tbody>\n",
       "</table>\n",
       "</div>"
      ],
      "text/plain": [
       "       Date       HomeTeam        AwayTeam  HomeGoals  AwayGoals Winner  \\\n",
       "0  7/8/1993  Bayern Munich        Freiburg          3          1      H   \n",
       "1  7/8/1993       Dortmund       Karlsruhe          2          1      H   \n",
       "2  7/8/1993       Duisburg      Leverkusen          2          2      D   \n",
       "3  7/8/1993        FC Koln  Kaiserslautern          0          2      A   \n",
       "4  7/8/1993        Hamburg        Nurnberg          5          2      H   \n",
       "\n",
       "       League  \n",
       "0  Bundesliga  \n",
       "1  Bundesliga  \n",
       "2  Bundesliga  \n",
       "3  Bundesliga  \n",
       "4  Bundesliga  "
      ]
     },
     "execution_count": 70,
     "metadata": {},
     "output_type": "execute_result"
    }
   ],
   "source": [
    "# filter out the rows with Div = 'D1'\n",
    "Bundesliga_1993 = Bundesliga_1993[Bundesliga_1993['Div'] == 'D1']\n",
    "# Dropping unused columns ('Div', 'Season', 'HTHG', 'HTAG', 'HTR') from the 'Bundesliga_1993' DataFrame\n",
    "Bundesliga_1993.drop(columns=['Div', 'Season', 'HTHG', 'HTAG', 'HTR'], axis=1, inplace=True)\n",
    "\n",
    "# Renaming columns to match global schema\n",
    "Bundesliga_1993.rename(columns={'FTHG': 'HomeGoals', 'FTAG': 'AwayGoals', 'FTR': 'Winner'}, inplace=True)\n",
    "\n",
    "# Adding a 'League' column with the value 'Bundesliga' for each row to indicate the league name\n",
    "Bundesliga_1993['League'] = 'Bundesliga'\n",
    "\n",
    "Bundesliga_1993.head()"
   ]
  },
  {
   "cell_type": "markdown",
   "id": "7ab19ea3-b18a-464e-8a6f-23665edae8f3",
   "metadata": {
    "jp-MarkdownHeadingCollapsed": true
   },
   "source": [
    "## Bundesliga_2005"
   ]
  },
  {
   "cell_type": "code",
   "execution_count": 71,
   "id": "d55aec38-715d-4bde-a4a1-3ef55aeb3438",
   "metadata": {},
   "outputs": [
    {
     "data": {
      "text/plain": [
       "Index(['Unnamed: 0', 'MATCH_DATE', 'LEAGUE_NAME', 'SEASON', 'LEAGUE',\n",
       "       'FINISHED', 'LOCATION', 'VIEWER', 'MATCHDAY', 'MATCHDAY_NR',\n",
       "       'HOME_TEAM_ID', 'HOME_TEAM_NAME', 'HOME_TEAM', 'HOME_ICON',\n",
       "       'AWAY_TEAM_ID', 'AWAY_TEAM_NAME', 'AWAY_TEAM', 'AWAY_ICON',\n",
       "       'GOALS_HOME', 'GOALS_AWAY', 'DRAW', 'WIN_HOME', 'WIN_AWAY'],\n",
       "      dtype='object')"
      ]
     },
     "execution_count": 71,
     "metadata": {},
     "output_type": "execute_result"
    }
   ],
   "source": [
    "Bundesliga_2005.columns"
   ]
  },
  {
   "cell_type": "code",
   "execution_count": 73,
   "id": "7cbcacb2-4f59-458b-8f8b-a999f96d0cfc",
   "metadata": {},
   "outputs": [
    {
     "data": {
      "text/html": [
       "<div>\n",
       "<style scoped>\n",
       "    .dataframe tbody tr th:only-of-type {\n",
       "        vertical-align: middle;\n",
       "    }\n",
       "\n",
       "    .dataframe tbody tr th {\n",
       "        vertical-align: top;\n",
       "    }\n",
       "\n",
       "    .dataframe thead th {\n",
       "        text-align: right;\n",
       "    }\n",
       "</style>\n",
       "<table border=\"1\" class=\"dataframe\">\n",
       "  <thead>\n",
       "    <tr style=\"text-align: right;\">\n",
       "      <th></th>\n",
       "      <th>Date</th>\n",
       "      <th>HomeTeam</th>\n",
       "      <th>AwayTeam</th>\n",
       "      <th>HomeGoals</th>\n",
       "      <th>AwayGoals</th>\n",
       "      <th>Winner</th>\n",
       "      <th>League</th>\n",
       "    </tr>\n",
       "  </thead>\n",
       "  <tbody>\n",
       "    <tr>\n",
       "      <th>0</th>\n",
       "      <td>2005-08-05 20:30:00</td>\n",
       "      <td>FC Bayern München</td>\n",
       "      <td>Borussia Mönchengladbach</td>\n",
       "      <td>3</td>\n",
       "      <td>0</td>\n",
       "      <td>H</td>\n",
       "      <td>Bundesliga</td>\n",
       "    </tr>\n",
       "    <tr>\n",
       "      <th>1</th>\n",
       "      <td>2005-08-06 15:30:00</td>\n",
       "      <td>1. FC Köln</td>\n",
       "      <td>1. FSV Mainz 05</td>\n",
       "      <td>1</td>\n",
       "      <td>0</td>\n",
       "      <td>H</td>\n",
       "      <td>Bundesliga</td>\n",
       "    </tr>\n",
       "  </tbody>\n",
       "</table>\n",
       "</div>"
      ],
      "text/plain": [
       "                  Date           HomeTeam                  AwayTeam  \\\n",
       "0  2005-08-05 20:30:00  FC Bayern München  Borussia Mönchengladbach   \n",
       "1  2005-08-06 15:30:00         1. FC Köln           1. FSV Mainz 05   \n",
       "\n",
       "   HomeGoals  AwayGoals Winner      League  \n",
       "0          3          0      H  Bundesliga  \n",
       "1          1          0      H  Bundesliga  "
      ]
     },
     "execution_count": 73,
     "metadata": {},
     "output_type": "execute_result"
    }
   ],
   "source": [
    "Bundesliga_2005 = Bundesliga_2005.loc[:, ['MATCH_DATE', 'HOME_TEAM_NAME', 'AWAY_TEAM_NAME', 'GOALS_HOME', 'GOALS_AWAY']]\n",
    "Bundesliga_2005.rename(\n",
    "    columns={\n",
    "        'MATCH_DATE': 'Date', \n",
    "        'HOME_TEAM_NAME': 'HomeTeam', \n",
    "        'AWAY_TEAM_NAME': 'AwayTeam', \n",
    "        'GOALS_HOME': 'HomeGoals', \n",
    "        'GOALS_AWAY': 'AwayGoals'}, inplace=True)\n",
    "\n",
    "Bundesliga_2005['Winner'] = ['H' if x > y else 'A' if x < y else 'D' for x, y in zip(Bundesliga_2005['HomeGoals'], Bundesliga_2005['AwayGoals'])]\n",
    "#Bundesliga_2005_new['Date'] = pd.to_datetime(Bundesliga_2005_new['Date'], format='mixed').dt.strftime('%Y-%m-%d')\n",
    "Bundesliga_2005['League'] = 'Bundesliga'\n",
    "Bundesliga_2005.head(2)"
   ]
  },
  {
   "cell_type": "markdown",
   "id": "a0d7ac2d-97f1-426f-9fee-954a9fa549a3",
   "metadata": {
    "jp-MarkdownHeadingCollapsed": true
   },
   "source": [
    "### Matching Team Names in Bundesliga Datasets"
   ]
  },
  {
   "cell_type": "code",
   "execution_count": 74,
   "id": "e2679379-bc3d-49bd-9f7a-72021c74b379",
   "metadata": {},
   "outputs": [],
   "source": [
    "# find the best match for each team in Bundesliga_1993\n",
    "teams_2005 = [team for team in Bundesliga_2005['HomeTeam'].unique() if len(team) > 1]\n",
    "for t1 in Bundesliga_1993['HomeTeam'].unique():\n",
    "    best_match = ''\n",
    "    best_match_score = 0\n",
    "    for t2 in teams_2005:\n",
    "        score = levenshtein_distance(t1.lower(), t2.lower())\n",
    "        if score > best_match_score and score > 0.5:\n",
    "            best_match = t2\n",
    "            best_match_score = score\n",
    "\n",
    "    if best_match != '':\n",
    "        # change each team name in Bundesliga_1993 to the best match from Bundesliga_2005\n",
    "        Bundesliga_1993['HomeTeam'] = Bundesliga_1993['HomeTeam'].replace(t1, best_match)\n",
    "        Bundesliga_1993['AwayTeam'] = Bundesliga_1993['AwayTeam'].replace(t1, best_match)\n",
    "\n",
    "        # remove the best match from Bundesliga_2005 to avoid matching it again\n",
    "        teams_2005.remove(best_match)"
   ]
  },
  {
   "cell_type": "code",
   "execution_count": 75,
   "id": "7ca26326-5323-45aa-9b85-846ecbfba3dc",
   "metadata": {},
   "outputs": [
    {
     "data": {
      "text/plain": [
       "(array(['FC Bayern München', 'Borussia Dortmund', 'MSV Duisburg',\n",
       "        '1. FC Köln', 'Hamburger SV', 'RB Leipzig',\n",
       "        'Borussia Mönchengladbach', 'Wattenscheid', 'Werder Bremen',\n",
       "        'Dresden', 'Eintracht Frankfurt', 'SC Freiburg',\n",
       "        '1. FC Kaiserslautern', 'Karlsruher SC', 'Bayer Leverkusen',\n",
       "        '1. FC Nürnberg', 'FC Schalke 04', 'VfB Stuttgart', 'Uerdingen',\n",
       "        'VfL Bochum', 'Munich 1860', \"M'gladbach\", 'FC Hansa Rostock',\n",
       "        'FC St. Pauli', 'Fortuna Düsseldorf', 'Arminia Bielefeld',\n",
       "        'Hertha BSC', 'VfL Wolfsburg', 'Ulm', 'Unterhaching',\n",
       "        'FC Energie Cottbus', 'Hannover 96', 'Mainz', 'Alemannia Aachen',\n",
       "        'TSG 1899 Hoffenheim', 'FC Augsburg', 'SpVgg Greuther Fürth',\n",
       "        'Fortuna Dusseldorf', 'Eintracht Braunschweig', 'SC Paderborn 07',\n",
       "        'SV Darmstadt 98', 'FC Ingolstadt 04'], dtype=object),\n",
       " array(['FC Bayern München', '1. FC Köln', 'MSV Duisburg', 'Hamburger SV',\n",
       "        'VfL Wolfsburg', 'Werder Bremen', 'Hannover 96', 'FC Schalke 04',\n",
       "        'Eintracht Frankfurt', 'Bayer Leverkusen',\n",
       "        'Borussia Mönchengladbach', 'Borussia Dortmund', 'Hertha BSC',\n",
       "        '1. FC Kaiserslautern', '1. FC Nürnberg', 'Arminia Bielefeld',\n",
       "        'VfB Stuttgart', '1. FSV Mainz 05', 'FC Energie Cottbus',\n",
       "        'Alemannia Aachen', 'VfL Bochum', 'Karlsruher SC',\n",
       "        'FC Hansa Rostock', 'TSG 1899 Hoffenheim', 'SC Freiburg',\n",
       "        'FC St. Pauli', 'FC Augsburg', 'SpVgg Greuther Fürth',\n",
       "        'Fortuna Düsseldorf', 'Eintracht Braunschweig', 'SC Paderborn 07',\n",
       "        'SV Darmstadt 98', 'FC Ingolstadt 04', 'RB Leipzig',\n",
       "        '1. FC Union Berlin'], dtype=object))"
      ]
     },
     "execution_count": 75,
     "metadata": {},
     "output_type": "execute_result"
    }
   ],
   "source": [
    "Bundesliga_1993.HomeTeam.unique(), Bundesliga_2005.HomeTeam.unique()"
   ]
  },
  {
   "cell_type": "markdown",
   "id": "9d0757ca-a2a0-4b98-bb8b-c5aa0371b4cc",
   "metadata": {
    "jp-MarkdownHeadingCollapsed": true
   },
   "source": [
    "## France_League"
   ]
  },
  {
   "cell_type": "code",
   "execution_count": 76,
   "id": "28365a8d-ee43-4fba-8b7c-f7b6099b8bb9",
   "metadata": {},
   "outputs": [
    {
     "data": {
      "text/plain": [
       "Index(['id', 'date', 'local', 'visiteur', 'ligue', 'saison', 'local_score',\n",
       "       'visiteur_score', 'resultat'],\n",
       "      dtype='object')"
      ]
     },
     "execution_count": 76,
     "metadata": {},
     "output_type": "execute_result"
    }
   ],
   "source": [
    "France_League.columns"
   ]
  },
  {
   "cell_type": "code",
   "execution_count": 77,
   "id": "0fa550b3-d967-43ab-ac58-e3a58ac055d7",
   "metadata": {},
   "outputs": [
    {
     "data": {
      "text/html": [
       "<div>\n",
       "<style scoped>\n",
       "    .dataframe tbody tr th:only-of-type {\n",
       "        vertical-align: middle;\n",
       "    }\n",
       "\n",
       "    .dataframe tbody tr th {\n",
       "        vertical-align: top;\n",
       "    }\n",
       "\n",
       "    .dataframe thead th {\n",
       "        text-align: right;\n",
       "    }\n",
       "</style>\n",
       "<table border=\"1\" class=\"dataframe\">\n",
       "  <thead>\n",
       "    <tr style=\"text-align: right;\">\n",
       "      <th></th>\n",
       "      <th>Date</th>\n",
       "      <th>HomeTeam</th>\n",
       "      <th>AwayTeam</th>\n",
       "      <th>HomeGoals</th>\n",
       "      <th>AwayGoals</th>\n",
       "      <th>Winner</th>\n",
       "      <th>League</th>\n",
       "    </tr>\n",
       "  </thead>\n",
       "  <tbody>\n",
       "    <tr>\n",
       "      <th>0</th>\n",
       "      <td>2023-01-29</td>\n",
       "      <td>OGC Nice</td>\n",
       "      <td>LOSC Lille</td>\n",
       "      <td>1</td>\n",
       "      <td>0</td>\n",
       "      <td>H</td>\n",
       "      <td>Ligue 1</td>\n",
       "    </tr>\n",
       "    <tr>\n",
       "      <th>1</th>\n",
       "      <td>2023-01-29</td>\n",
       "      <td>AJ Auxerre</td>\n",
       "      <td>Montpellier HSC</td>\n",
       "      <td>0</td>\n",
       "      <td>2</td>\n",
       "      <td>A</td>\n",
       "      <td>Ligue 1</td>\n",
       "    </tr>\n",
       "  </tbody>\n",
       "</table>\n",
       "</div>"
      ],
      "text/plain": [
       "         Date    HomeTeam         AwayTeam  HomeGoals  AwayGoals Winner  \\\n",
       "0  2023-01-29    OGC Nice       LOSC Lille          1          0      H   \n",
       "1  2023-01-29  AJ Auxerre  Montpellier HSC          0          2      A   \n",
       "\n",
       "    League  \n",
       "0  Ligue 1  \n",
       "1  Ligue 1  "
      ]
     },
     "execution_count": 77,
     "metadata": {},
     "output_type": "execute_result"
    }
   ],
   "source": [
    "France_League = France_League.loc[:, ['date', 'local', 'visiteur', 'local_score', 'visiteur_score']]\n",
    "France_League.rename(\n",
    "    columns={\n",
    "        'date': 'Date', \n",
    "        'local': 'HomeTeam', \n",
    "        'visiteur': 'AwayTeam', \n",
    "        'local_score': 'HomeGoals', \n",
    "        'visiteur_score': 'AwayGoals'}, inplace=True)\n",
    "\n",
    "France_League['Winner'] = ['H' if x > y else 'A' if x < y else 'D' for x, y in zip(France_League['HomeGoals'], France_League['AwayGoals'])]\n",
    "France_League['League'] = 'Ligue 1'\n",
    "France_League.head(2)"
   ]
  },
  {
   "cell_type": "markdown",
   "id": "7b6c2c38-0160-46ff-b27c-6ea45c5b6791",
   "metadata": {
    "jp-MarkdownHeadingCollapsed": true
   },
   "source": [
    "## Premier_League"
   ]
  },
  {
   "cell_type": "code",
   "execution_count": 79,
   "id": "053f6e01-6c2e-4d6d-8659-90723fec7d96",
   "metadata": {},
   "outputs": [
    {
     "data": {
      "text/plain": [
       "Index(['Season_End_Year', 'Wk', 'Date', 'Home', 'HomeGoals', 'AwayGoals',\n",
       "       'Away', 'FTR'],\n",
       "      dtype='object')"
      ]
     },
     "execution_count": 79,
     "metadata": {},
     "output_type": "execute_result"
    }
   ],
   "source": [
    "Premier_League.columns"
   ]
  },
  {
   "cell_type": "code",
   "execution_count": 80,
   "id": "4dd31b46-ba92-4513-8df1-a7f1ed14858c",
   "metadata": {},
   "outputs": [
    {
     "data": {
      "text/html": [
       "<div>\n",
       "<style scoped>\n",
       "    .dataframe tbody tr th:only-of-type {\n",
       "        vertical-align: middle;\n",
       "    }\n",
       "\n",
       "    .dataframe tbody tr th {\n",
       "        vertical-align: top;\n",
       "    }\n",
       "\n",
       "    .dataframe thead th {\n",
       "        text-align: right;\n",
       "    }\n",
       "</style>\n",
       "<table border=\"1\" class=\"dataframe\">\n",
       "  <thead>\n",
       "    <tr style=\"text-align: right;\">\n",
       "      <th></th>\n",
       "      <th>Date</th>\n",
       "      <th>HomeTeam</th>\n",
       "      <th>AwayTeam</th>\n",
       "      <th>HomeGoals</th>\n",
       "      <th>AwayGoals</th>\n",
       "      <th>Winner</th>\n",
       "      <th>League</th>\n",
       "    </tr>\n",
       "  </thead>\n",
       "  <tbody>\n",
       "    <tr>\n",
       "      <th>0</th>\n",
       "      <td>1992-08-15</td>\n",
       "      <td>Coventry City</td>\n",
       "      <td>Middlesbrough</td>\n",
       "      <td>2</td>\n",
       "      <td>1</td>\n",
       "      <td>H</td>\n",
       "      <td>Premier League</td>\n",
       "    </tr>\n",
       "    <tr>\n",
       "      <th>1</th>\n",
       "      <td>1992-08-15</td>\n",
       "      <td>Leeds United</td>\n",
       "      <td>Wimbledon</td>\n",
       "      <td>2</td>\n",
       "      <td>1</td>\n",
       "      <td>H</td>\n",
       "      <td>Premier League</td>\n",
       "    </tr>\n",
       "  </tbody>\n",
       "</table>\n",
       "</div>"
      ],
      "text/plain": [
       "         Date       HomeTeam       AwayTeam  HomeGoals  AwayGoals Winner  \\\n",
       "0  1992-08-15  Coventry City  Middlesbrough          2          1      H   \n",
       "1  1992-08-15   Leeds United      Wimbledon          2          1      H   \n",
       "\n",
       "           League  \n",
       "0  Premier League  \n",
       "1  Premier League  "
      ]
     },
     "execution_count": 80,
     "metadata": {},
     "output_type": "execute_result"
    }
   ],
   "source": [
    "Premier_League = Premier_League.loc[:, ['Date', 'Home', 'Away', 'HomeGoals', 'AwayGoals', 'FTR']]\n",
    "Premier_League.rename(\n",
    "    columns={\n",
    "        'Home': 'HomeTeam', \n",
    "        'Away': 'AwayTeam', \n",
    "        'FTR': 'Winner'}, inplace=True)\n",
    "Premier_League['League'] = 'Premier League'\n",
    "Premier_League.head(2)"
   ]
  },
  {
   "cell_type": "markdown",
   "id": "a0ed13cf-8bcc-4003-860a-6a10729a5636",
   "metadata": {
    "jp-MarkdownHeadingCollapsed": true
   },
   "source": [
    "## Spanish_League"
   ]
  },
  {
   "cell_type": "code",
   "execution_count": 81,
   "id": "09e993ce-4a21-4298-9f1c-15eff9d02375",
   "metadata": {},
   "outputs": [
    {
     "data": {
      "text/plain": [
       "Index(['id', 'season', 'division', 'round', 'localTeam', 'visitorTeam',\n",
       "       'localGoals', 'visitorGoals', 'date', 'timestamp'],\n",
       "      dtype='object')"
      ]
     },
     "execution_count": 81,
     "metadata": {},
     "output_type": "execute_result"
    }
   ],
   "source": [
    "Spanish_League.columns"
   ]
  },
  {
   "cell_type": "code",
   "execution_count": 85,
   "id": "b6a7b8f7-a8cf-45d1-8b8c-80534fb0355e",
   "metadata": {},
   "outputs": [
    {
     "data": {
      "text/html": [
       "<div>\n",
       "<style scoped>\n",
       "    .dataframe tbody tr th:only-of-type {\n",
       "        vertical-align: middle;\n",
       "    }\n",
       "\n",
       "    .dataframe tbody tr th {\n",
       "        vertical-align: top;\n",
       "    }\n",
       "\n",
       "    .dataframe thead th {\n",
       "        text-align: right;\n",
       "    }\n",
       "</style>\n",
       "<table border=\"1\" class=\"dataframe\">\n",
       "  <thead>\n",
       "    <tr style=\"text-align: right;\">\n",
       "      <th></th>\n",
       "      <th>Date</th>\n",
       "      <th>HomeTeam</th>\n",
       "      <th>AwayTeam</th>\n",
       "      <th>HomeGoals</th>\n",
       "      <th>AwayGoals</th>\n",
       "      <th>Winner</th>\n",
       "      <th>League</th>\n",
       "    </tr>\n",
       "  </thead>\n",
       "  <tbody>\n",
       "    <tr>\n",
       "      <th>0</th>\n",
       "      <td>12/09/1970</td>\n",
       "      <td>Atletico de Bilbao</td>\n",
       "      <td>Barcelona</td>\n",
       "      <td>1</td>\n",
       "      <td>1</td>\n",
       "      <td>D</td>\n",
       "      <td>La Liga</td>\n",
       "    </tr>\n",
       "    <tr>\n",
       "      <th>1</th>\n",
       "      <td>12/09/1970</td>\n",
       "      <td>Las Palmas</td>\n",
       "      <td>Atletico de Madrid</td>\n",
       "      <td>1</td>\n",
       "      <td>1</td>\n",
       "      <td>D</td>\n",
       "      <td>La Liga</td>\n",
       "    </tr>\n",
       "  </tbody>\n",
       "</table>\n",
       "</div>"
      ],
      "text/plain": [
       "         Date            HomeTeam            AwayTeam  HomeGoals  AwayGoals  \\\n",
       "0  12/09/1970  Atletico de Bilbao           Barcelona          1          1   \n",
       "1  12/09/1970          Las Palmas  Atletico de Madrid          1          1   \n",
       "\n",
       "  Winner   League  \n",
       "0      D  La Liga  \n",
       "1      D  La Liga  "
      ]
     },
     "execution_count": 85,
     "metadata": {},
     "output_type": "execute_result"
    }
   ],
   "source": [
    "# filter out the rows with Div = 1\n",
    "Spanish_League = Spanish_League[Spanish_League['division'] == 1]\n",
    "\n",
    "Spanish_League = Spanish_League.loc[:, ['date', 'localTeam', 'visitorTeam', 'localGoals', 'visitorGoals']]\n",
    "Spanish_League.rename(\n",
    "    columns={\n",
    "        'date': 'Date', \n",
    "        'localTeam': 'HomeTeam', \n",
    "        'visitorTeam': 'AwayTeam', \n",
    "        'localGoals': 'HomeGoals', \n",
    "        'visitorGoals': 'AwayGoals'}, inplace=True)\n",
    "\n",
    "Spanish_League['Winner'] = ['H' if x > y else 'A' if x < y else 'D' for x, y in zip(Spanish_League['HomeGoals'], Spanish_League['AwayGoals'])]\n",
    "Spanish_League['League'] = 'La Liga'\n",
    "Spanish_League.head(2)"
   ]
  },
  {
   "cell_type": "markdown",
   "metadata": {},
   "source": [
    "## Spanish League 1995-2023"
   ]
  },
  {
   "cell_type": "code",
   "execution_count": 86,
   "metadata": {},
   "outputs": [
    {
     "data": {
      "text/plain": [
       "Index(['Season', 'Date', 'HomeTeam', 'AwayTeam', 'FTHG', 'FTAG', 'FTR', 'HTHG',\n",
       "       'HTAG', 'HTR'],\n",
       "      dtype='object')"
      ]
     },
     "execution_count": 86,
     "metadata": {},
     "output_type": "execute_result"
    }
   ],
   "source": [
    "Spanish_League_1995.columns"
   ]
  },
  {
   "cell_type": "code",
   "execution_count": 87,
   "metadata": {},
   "outputs": [
    {
     "data": {
      "text/html": [
       "<div>\n",
       "<style scoped>\n",
       "    .dataframe tbody tr th:only-of-type {\n",
       "        vertical-align: middle;\n",
       "    }\n",
       "\n",
       "    .dataframe tbody tr th {\n",
       "        vertical-align: top;\n",
       "    }\n",
       "\n",
       "    .dataframe thead th {\n",
       "        text-align: right;\n",
       "    }\n",
       "</style>\n",
       "<table border=\"1\" class=\"dataframe\">\n",
       "  <thead>\n",
       "    <tr style=\"text-align: right;\">\n",
       "      <th></th>\n",
       "      <th>Date</th>\n",
       "      <th>HomeTeam</th>\n",
       "      <th>AwayTeam</th>\n",
       "      <th>HomeGoals</th>\n",
       "      <th>AwayGoals</th>\n",
       "      <th>Winner</th>\n",
       "      <th>League</th>\n",
       "    </tr>\n",
       "  </thead>\n",
       "  <tbody>\n",
       "    <tr>\n",
       "      <th>0</th>\n",
       "      <td>02-09-1995</td>\n",
       "      <td>La Coruna</td>\n",
       "      <td>Valencia</td>\n",
       "      <td>3</td>\n",
       "      <td>0</td>\n",
       "      <td>H</td>\n",
       "      <td>La Liga</td>\n",
       "    </tr>\n",
       "    <tr>\n",
       "      <th>1</th>\n",
       "      <td>02-09-1995</td>\n",
       "      <td>Sp Gijon</td>\n",
       "      <td>Albacete</td>\n",
       "      <td>3</td>\n",
       "      <td>0</td>\n",
       "      <td>H</td>\n",
       "      <td>La Liga</td>\n",
       "    </tr>\n",
       "  </tbody>\n",
       "</table>\n",
       "</div>"
      ],
      "text/plain": [
       "         Date   HomeTeam  AwayTeam  HomeGoals  AwayGoals Winner   League\n",
       "0  02-09-1995  La Coruna  Valencia          3          0      H  La Liga\n",
       "1  02-09-1995   Sp Gijon  Albacete          3          0      H  La Liga"
      ]
     },
     "execution_count": 87,
     "metadata": {},
     "output_type": "execute_result"
    }
   ],
   "source": [
    "Spanish_League_1995 = Spanish_League_1995.loc[:, ['Date', 'HomeTeam', 'AwayTeam', 'FTHG', 'FTAG']]\n",
    "Spanish_League_1995.rename(\n",
    "    columns={\n",
    "        'FTHG': 'HomeGoals', \n",
    "        'FTAG': 'AwayGoals'}, inplace=True)\n",
    "Spanish_League_1995['Winner'] = ['H' if x > y else 'A' if x < y else 'D' for x, y in zip(Spanish_League_1995['HomeGoals'], Spanish_League_1995['AwayGoals'])]\n",
    "Spanish_League_1995['League'] = 'La Liga'\n",
    "Spanish_League_1995.head(2)"
   ]
  },
  {
   "cell_type": "markdown",
   "metadata": {},
   "source": [
    "### Matching Team Names in Spanish League Datasets"
   ]
  },
  {
   "cell_type": "code",
   "execution_count": 88,
   "metadata": {},
   "outputs": [],
   "source": [
    "# find the best match for each team in Spanish_League\n",
    "teams_1995 = [team for team in Spanish_League_1995['HomeTeam'].unique() if len(team) > 1]\n",
    "for t1 in Spanish_League['HomeTeam'].unique():\n",
    "    best_match = ''\n",
    "    best_match_score = 0\n",
    "    for t2 in teams_1995:\n",
    "        score = levenshtein_distance(t1.lower(), t2.lower())\n",
    "        if score > best_match_score and score > 0.5:\n",
    "            best_match = t2\n",
    "            best_match_score = score\n",
    "\n",
    "    if best_match != '':\n",
    "        # change each team name in Spanish_League to the best match from Spanish_League_1995\n",
    "        Spanish_League['HomeTeam'] = Spanish_League['HomeTeam'].replace(t1, best_match)\n",
    "        Spanish_League['AwayTeam'] = Spanish_League['AwayTeam'].replace(t1, best_match)\n",
    "\n",
    "        # remove the best match from teams_1995 to avoid matching it again\n",
    "        teams_1995.remove(best_match)"
   ]
  },
  {
   "cell_type": "markdown",
   "id": "bcb249d7-d533-4894-9a83-0b59bc93960d",
   "metadata": {
    "jp-MarkdownHeadingCollapsed": true
   },
   "source": [
    "## Turkish_League"
   ]
  },
  {
   "cell_type": "code",
   "execution_count": 89,
   "id": "e5723a50-1f14-4ff8-b619-2f9fdae39d4b",
   "metadata": {},
   "outputs": [
    {
     "data": {
      "text/plain": [
       "Index(['Date', 'Season', 'Week', 'home', 'visitor', 'FT', 'hgoal', 'vgoal',\n",
       "       'division', 'tier', 'totgoal', 'goaldiff', 'result', 'HT', 'hgoal_half',\n",
       "       'vgoal_half', 'half_totgoal', 'half_goaldiff', 'result_half', 'fans',\n",
       "       'neutral', 'home_red_card', 'visitor_red_card'],\n",
       "      dtype='object')"
      ]
     },
     "execution_count": 89,
     "metadata": {},
     "output_type": "execute_result"
    }
   ],
   "source": [
    "Turkish_League.columns"
   ]
  },
  {
   "cell_type": "code",
   "execution_count": 91,
   "id": "8cb7a792-d82b-4f02-9d8f-166cd37c8f7f",
   "metadata": {},
   "outputs": [
    {
     "data": {
      "text/html": [
       "<div>\n",
       "<style scoped>\n",
       "    .dataframe tbody tr th:only-of-type {\n",
       "        vertical-align: middle;\n",
       "    }\n",
       "\n",
       "    .dataframe tbody tr th {\n",
       "        vertical-align: top;\n",
       "    }\n",
       "\n",
       "    .dataframe thead th {\n",
       "        text-align: right;\n",
       "    }\n",
       "</style>\n",
       "<table border=\"1\" class=\"dataframe\">\n",
       "  <thead>\n",
       "    <tr style=\"text-align: right;\">\n",
       "      <th></th>\n",
       "      <th>Date</th>\n",
       "      <th>HomeTeam</th>\n",
       "      <th>AwayTeam</th>\n",
       "      <th>HomeGoals</th>\n",
       "      <th>AwayGoals</th>\n",
       "      <th>Winner</th>\n",
       "      <th>League</th>\n",
       "    </tr>\n",
       "  </thead>\n",
       "  <tbody>\n",
       "    <tr>\n",
       "      <th>0</th>\n",
       "      <td>1959-02-21</td>\n",
       "      <td>Genclerbirligi</td>\n",
       "      <td>Adalet</td>\n",
       "      <td>1</td>\n",
       "      <td>1</td>\n",
       "      <td>D</td>\n",
       "      <td>Turkish Super League</td>\n",
       "    </tr>\n",
       "    <tr>\n",
       "      <th>1</th>\n",
       "      <td>1959-02-21</td>\n",
       "      <td>Izmirspor</td>\n",
       "      <td>Beykoz 1908</td>\n",
       "      <td>2</td>\n",
       "      <td>1</td>\n",
       "      <td>H</td>\n",
       "      <td>Turkish Super League</td>\n",
       "    </tr>\n",
       "  </tbody>\n",
       "</table>\n",
       "</div>"
      ],
      "text/plain": [
       "         Date        HomeTeam     AwayTeam  HomeGoals  AwayGoals Winner  \\\n",
       "0  1959-02-21  Genclerbirligi       Adalet          1          1      D   \n",
       "1  1959-02-21       Izmirspor  Beykoz 1908          2          1      H   \n",
       "\n",
       "                 League  \n",
       "0  Turkish Super League  \n",
       "1  Turkish Super League  "
      ]
     },
     "execution_count": 91,
     "metadata": {},
     "output_type": "execute_result"
    }
   ],
   "source": [
    "Turkish_League = Turkish_League.loc[:, ['Date', 'home', 'visitor', 'hgoal', 'vgoal', 'result']]\n",
    "Turkish_League.rename(\n",
    "    columns={\n",
    "        'home': 'HomeTeam', \n",
    "        'visitor': 'AwayTeam', \n",
    "        'hgoal': 'HomeGoals', \n",
    "        'vgoal': 'AwayGoals', \n",
    "        'result': 'Winner'}, inplace=True)\n",
    "Turkish_League['League'] = 'Turkish Super League'\n",
    "Turkish_League.head(2)"
   ]
  },
  {
   "cell_type": "markdown",
   "id": "b0e632fb-ef92-4052-9f9a-79faaf1cdab2",
   "metadata": {
    "jp-MarkdownHeadingCollapsed": true
   },
   "source": [
    "# Data Fusion"
   ]
  },
  {
   "cell_type": "code",
   "execution_count": 92,
   "id": "8cf548bf-6488-4696-aac9-6f63bd17dc33",
   "metadata": {},
   "outputs": [],
   "source": [
    "#concatenate DataFrames (Bundesliga_1993_new, Bundesliga_2005_new, France_League_new, Premier_League_new, Spanish_League_new, Turkish_League_new)\n",
    "data = pd.concat([Bundesliga_1993, Bundesliga_2005, France_League, Premier_League, Spanish_League, Spanish_League_1995, Turkish_League], ignore_index=True)\n",
    "\n",
    "#checks whether the length of the concatenated DataFrame data is equal to the sum of the lengths of all the individual DataFrames\n",
    "assert len(data) == len(Bundesliga_1993) + len(Bundesliga_2005) + len(France_League) + len(Premier_League) + len(Spanish_League) + len(Turkish_League) + len(Spanish_League_1995)"
   ]
  },
  {
   "cell_type": "code",
   "execution_count": 93,
   "metadata": {},
   "outputs": [],
   "source": [
    "# standardize the date format to 'dd-mm-yyyy'\n",
    "convert_date_column(data, 'Date')"
   ]
  },
  {
   "cell_type": "code",
   "execution_count": 94,
   "id": "c03a30dc-a86f-4032-a958-939c9c5c87c7",
   "metadata": {},
   "outputs": [],
   "source": [
    "# add year column for easier queries\n",
    "data['Year'] = data.Date.dt.year"
   ]
  },
  {
   "cell_type": "code",
   "execution_count": 95,
   "id": "8b46191a-d4c4-438a-829f-1852b257af91",
   "metadata": {},
   "outputs": [
    {
     "data": {
      "text/plain": [
       "Date         0\n",
       "HomeTeam     0\n",
       "AwayTeam     0\n",
       "HomeGoals    0\n",
       "AwayGoals    0\n",
       "Winner       0\n",
       "League       0\n",
       "Year         0\n",
       "dtype: int64"
      ]
     },
     "execution_count": 95,
     "metadata": {},
     "output_type": "execute_result"
    }
   ],
   "source": [
    "data.isna().sum() #display the count of missing values"
   ]
  },
  {
   "cell_type": "markdown",
   "id": "a565a9d3-2511-41a3-9a80-16368c170f2d",
   "metadata": {
    "jp-MarkdownHeadingCollapsed": true
   },
   "source": [
    "# **Remove Duplicates**"
   ]
  },
  {
   "cell_type": "code",
   "execution_count": 96,
   "id": "88b4319b",
   "metadata": {},
   "outputs": [
    {
     "name": "stdout",
     "output_type": "stream",
     "text": [
      "There are 22392 duplicates\n"
     ]
    },
    {
     "data": {
      "text/html": [
       "<div>\n",
       "<style scoped>\n",
       "    .dataframe tbody tr th:only-of-type {\n",
       "        vertical-align: middle;\n",
       "    }\n",
       "\n",
       "    .dataframe tbody tr th {\n",
       "        vertical-align: top;\n",
       "    }\n",
       "\n",
       "    .dataframe thead th {\n",
       "        text-align: right;\n",
       "    }\n",
       "</style>\n",
       "<table border=\"1\" class=\"dataframe\">\n",
       "  <thead>\n",
       "    <tr style=\"text-align: right;\">\n",
       "      <th></th>\n",
       "      <th>Date</th>\n",
       "      <th>HomeTeam</th>\n",
       "      <th>AwayTeam</th>\n",
       "      <th>HomeGoals</th>\n",
       "      <th>AwayGoals</th>\n",
       "      <th>Winner</th>\n",
       "      <th>League</th>\n",
       "      <th>Year</th>\n",
       "    </tr>\n",
       "  </thead>\n",
       "  <tbody>\n",
       "    <tr>\n",
       "      <th>3582</th>\n",
       "      <td>2005-03-12</td>\n",
       "      <td>Arminia Bielefeld</td>\n",
       "      <td>Hamburger SV</td>\n",
       "      <td>3</td>\n",
       "      <td>4</td>\n",
       "      <td>A</td>\n",
       "      <td>Bundesliga</td>\n",
       "      <td>2005</td>\n",
       "    </tr>\n",
       "    <tr>\n",
       "      <th>7780</th>\n",
       "      <td>2005-03-12</td>\n",
       "      <td>Arminia Bielefeld</td>\n",
       "      <td>FC Schalke 04</td>\n",
       "      <td>0</td>\n",
       "      <td>1</td>\n",
       "      <td>A</td>\n",
       "      <td>Bundesliga</td>\n",
       "      <td>2005</td>\n",
       "    </tr>\n",
       "  </tbody>\n",
       "</table>\n",
       "</div>"
      ],
      "text/plain": [
       "           Date           HomeTeam       AwayTeam  HomeGoals  AwayGoals  \\\n",
       "3582 2005-03-12  Arminia Bielefeld   Hamburger SV          3          4   \n",
       "7780 2005-03-12  Arminia Bielefeld  FC Schalke 04          0          1   \n",
       "\n",
       "     Winner      League  Year  \n",
       "3582      A  Bundesliga  2005  \n",
       "7780      A  Bundesliga  2005  "
      ]
     },
     "execution_count": 96,
     "metadata": {},
     "output_type": "execute_result"
    }
   ],
   "source": [
    "# Checking for duplicates in the updated data\n",
    "duplicates_check = data[data.duplicated(subset=[\"Date\", \"HomeTeam\"], keep=False)]\n",
    "\n",
    "# Printing the duplicates (if any)\n",
    "if len(duplicates_check) == 0:\n",
    "    print(\"No duplicates found\")\n",
    "else:\n",
    "    print(f\"There are {len(duplicates_check)} duplicates\")\n",
    "\n",
    "oneExample = duplicates_check.iloc[0]\n",
    "d, h= oneExample.Date, oneExample.HomeTeam\n",
    "data[(data.Date == d) & (data.HomeTeam == h)]"
   ]
  },
  {
   "cell_type": "code",
   "execution_count": 97,
   "id": "bc6df86b",
   "metadata": {},
   "outputs": [
    {
     "data": {
      "text/html": [
       "<div>\n",
       "<style scoped>\n",
       "    .dataframe tbody tr th:only-of-type {\n",
       "        vertical-align: middle;\n",
       "    }\n",
       "\n",
       "    .dataframe tbody tr th {\n",
       "        vertical-align: top;\n",
       "    }\n",
       "\n",
       "    .dataframe thead th {\n",
       "        text-align: right;\n",
       "    }\n",
       "</style>\n",
       "<table border=\"1\" class=\"dataframe\">\n",
       "  <thead>\n",
       "    <tr style=\"text-align: right;\">\n",
       "      <th></th>\n",
       "      <th>Date</th>\n",
       "      <th>HomeTeam</th>\n",
       "      <th>AwayTeam</th>\n",
       "      <th>HomeGoals</th>\n",
       "      <th>AwayGoals</th>\n",
       "      <th>Winner</th>\n",
       "      <th>League</th>\n",
       "      <th>Year</th>\n",
       "    </tr>\n",
       "  </thead>\n",
       "  <tbody>\n",
       "    <tr>\n",
       "      <th>3587</th>\n",
       "      <td>2005-03-12</td>\n",
       "      <td>Werder Bremen</td>\n",
       "      <td>Mainz</td>\n",
       "      <td>0</td>\n",
       "      <td>0</td>\n",
       "      <td>D</td>\n",
       "      <td>Bundesliga</td>\n",
       "      <td>2005</td>\n",
       "    </tr>\n",
       "    <tr>\n",
       "      <th>7778</th>\n",
       "      <td>2005-03-12</td>\n",
       "      <td>Werder Bremen</td>\n",
       "      <td>MSV Duisburg</td>\n",
       "      <td>2</td>\n",
       "      <td>0</td>\n",
       "      <td>H</td>\n",
       "      <td>Bundesliga</td>\n",
       "      <td>2005</td>\n",
       "    </tr>\n",
       "  </tbody>\n",
       "</table>\n",
       "</div>"
      ],
      "text/plain": [
       "           Date       HomeTeam      AwayTeam  HomeGoals  AwayGoals Winner  \\\n",
       "3587 2005-03-12  Werder Bremen         Mainz          0          0      D   \n",
       "7778 2005-03-12  Werder Bremen  MSV Duisburg          2          0      H   \n",
       "\n",
       "          League  Year  \n",
       "3587  Bundesliga  2005  \n",
       "7778  Bundesliga  2005  "
      ]
     },
     "execution_count": 97,
     "metadata": {},
     "output_type": "execute_result"
    }
   ],
   "source": [
    "oneExample = duplicates_check.iloc[1]\n",
    "d, h= oneExample.Date, oneExample.HomeTeam\n",
    "data[(data.Date == d) & (data.HomeTeam == h)]"
   ]
  },
  {
   "cell_type": "code",
   "execution_count": 98,
   "id": "dc350dd2-e080-43e5-b851-730ebe7a2925",
   "metadata": {},
   "outputs": [
    {
     "name": "stdout",
     "output_type": "stream",
     "text": [
      "No duplicates found after removing duplicates\n"
     ]
    }
   ],
   "source": [
    "# Remove duplicates \n",
    "data_no_duplicates = data.drop_duplicates(subset=[\"Date\", \"HomeTeam\"], keep='first')\n",
    "\n",
    "# Checking for duplicates in the updated data\n",
    "duplicates_check = data_no_duplicates[data_no_duplicates.duplicated()]\n",
    "\n",
    "# Printing the duplicates (if any)\n",
    "if len(duplicates_check) == 0:\n",
    "    print(\"No duplicates found after removing duplicates\")\n",
    "else:\n",
    "    print(\"Duplicates still exist after removing duplicates\")\n",
    "    print(duplicates_check)"
   ]
  },
  {
   "cell_type": "markdown",
   "id": "dfa486c1-315f-4a49-bd1e-7944fb2d1a99",
   "metadata": {
    "jp-MarkdownHeadingCollapsed": true
   },
   "source": [
    "# Save Integrated Data to CSV File"
   ]
  },
  {
   "cell_type": "code",
   "execution_count": 33,
   "id": "58559579-1aaf-4d16-bb29-c81e4765675c",
   "metadata": {},
   "outputs": [],
   "source": [
    "file_path = 'data/manual_integrated_data.csv' \n",
    "data_no_duplicates.to_csv(file_path, index=False)"
   ]
  },
  {
   "cell_type": "code",
   "execution_count": null,
   "metadata": {},
   "outputs": [],
   "source": []
  }
 ],
 "metadata": {
  "kernelspec": {
   "display_name": "Python 3 (ipykernel)",
   "language": "python",
   "name": "python3"
  },
  "language_info": {
   "codemirror_mode": {
    "name": "ipython",
    "version": 3
   },
   "file_extension": ".py",
   "mimetype": "text/x-python",
   "name": "python",
   "nbconvert_exporter": "python",
   "pygments_lexer": "ipython3",
   "version": "3.10.11"
  }
 },
 "nbformat": 4,
 "nbformat_minor": 5
}
