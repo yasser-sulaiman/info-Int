{
 "cells": [
  {
   "cell_type": "markdown",
   "id": "53fbfabd-92b7-49cc-99ab-3a17b2fcfcac",
   "metadata": {
    "jp-MarkdownHeadingCollapsed": true
   },
   "source": [
    "# **Imports**"
   ]
  },
  {
   "cell_type": "code",
   "execution_count": 105,
   "id": "d0f4f1c0-4a93-44e4-be8c-458b833c96d3",
   "metadata": {},
   "outputs": [],
   "source": [
    "import pandas as pd # pip install pandas\n",
    "from difflib import SequenceMatcher"
   ]
  },
  {
   "cell_type": "markdown",
   "id": "9bec16a9-1ccc-4183-aac4-c0ba3f0b1a6b",
   "metadata": {},
   "source": [
    "Football Matches of Spanish League\n",
    "https://www.kaggle.com/datasets/ricardomoya/football-matches-of-spanish-league\n",
    "\n",
    "Premier League Matches 1993-2023\n",
    "https://www.kaggle.com/datasets/evangower/premier-league-matches-19922022\n",
    "\n",
    "Turkish Super League Matches (1959-2021)\n",
    "https://www.kaggle.com/datasets/faruky/turkish-super-league-matches-19592020\n",
    "\n",
    "France Football from 1950 to 2022\n",
    "https://www.kaggle.com/datasets/simonherv/france-football-from-1950-to-2022\n",
    "\n",
    "—\n",
    "Merge Both\n",
    "\n",
    "Football | Bundesliga Seasons 2005/06 - 2022/23\n",
    "https://www.kaggle.com/datasets/oles04/bundesliga-seasons\n",
    "\n",
    "Bundesliga Results 1993-2018\n",
    "https://www.kaggle.com/datasets/thefc17/bundesliga-results-19932018"
   ]
  },
  {
   "cell_type": "markdown",
   "id": "7736bf7d-955d-4dd8-a044-6e1b31c54d77",
   "metadata": {},
   "source": [
    "Import from Github"
   ]
  },
  {
   "cell_type": "code",
   "execution_count": 106,
   "id": "84ada30e-298c-4640-ac69-03c58da50c2b",
   "metadata": {},
   "outputs": [],
   "source": [
    "Bundesliga_1993 = pd.read_csv('https://raw.githubusercontent.com/yasser-sulaiman/info-Int/main/data/Bundesliga%20Results%201993-2018.csv')\n",
    "Bundesliga_2005 = pd.read_csv('https://raw.githubusercontent.com/yasser-sulaiman/info-Int/main/data/Football%20%7C%20Bundesliga%20Seasons%202005%3A06%20-%202022%3A23.csv')\n",
    "France_League = pd.read_csv('https://raw.githubusercontent.com/yasser-sulaiman/info-Int/main/data/France%20Football%20from%201950%20to%202022.csv')\n",
    "Turkish_League = pd.read_csv('https://raw.githubusercontent.com/yasser-sulaiman/info-Int/main/data/Turkish%20Super%20League%20Matches%20(1959-2021).csv')\n",
    "Premier_League = pd.read_csv('https://raw.githubusercontent.com/yasser-sulaiman/info-Int/main/data/Premier%20League%20Matches%201993-2023.csv')\n",
    "Spanish_League = pd.read_csv('https://raw.githubusercontent.com/yasser-sulaiman/info-Int/main/data/Spanish_League%201970-2017.csv')\n",
    "Spanish_League_1995 = pd.read_csv('https://raw.githubusercontent.com/yasser-sulaiman/info-Int/main/data/LaLiga_1995-2023.csv')"
   ]
  },
  {
   "cell_type": "markdown",
   "id": "6315e140-a67b-4aba-a4ff-4e1756733a0a",
   "metadata": {},
   "source": [
    "Import Locally Jupyter"
   ]
  },
  {
   "cell_type": "code",
   "execution_count": 107,
   "id": "096520a1-ec98-4b84-883b-9012e9e10363",
   "metadata": {},
   "outputs": [],
   "source": [
    "#Spanish_League = pd.read_csv('Spanish_League 1970-2017.csv')\n",
    "#Premier_League = pd.read_csv('Premier League Matches 1993-2023.csv')\n",
    "#Turkish_League = pd.read_csv('Turkish Super League Matches (1959-2021).csv')\n",
    "#France_League = pd.read_csv('France Football from 1950 to 2022.csv')\n",
    "##Bundesliga_2005 = pd.read_csv('Football | Bundesliga Seasons 2005/06 - 2022/23.csv')\n",
    "#Bundesliga_1993 = pd.read_csv('Bundesliga Results 1993-2018.csv')"
   ]
  },
  {
   "cell_type": "markdown",
   "id": "2b342670-e374-4c51-b55c-91fe73fbd922",
   "metadata": {
    "jp-MarkdownHeadingCollapsed": true
   },
   "source": [
    "# **Global Schema**"
   ]
  },
  {
   "cell_type": "markdown",
   "id": "bf3ec2ff-770c-4d5f-8c4c-20824eaac3e5",
   "metadata": {},
   "source": [
    "We need to define a global schema for all datasets"
   ]
  },
  {
   "cell_type": "markdown",
   "id": "d1032260-ecf0-4f45-9c13-c9173d2bae1f",
   "metadata": {},
   "source": [
    "Global schema         [\"Date\", \"HomeTeam\", \"AwayTeam\", \"HomeGoals\", \"AwayGoals\", \"Winner\", \"League\"]"
   ]
  },
  {
   "cell_type": "markdown",
   "id": "1ff6b84d-2aa3-4142-9dce-83c0094c60c2",
   "metadata": {
    "jp-MarkdownHeadingCollapsed": true
   },
   "source": [
    "# *Bundesliga_1993* "
   ]
  },
  {
   "cell_type": "code",
   "execution_count": 108,
   "id": "ca02c036-7ac0-4b64-9d4b-651cfe35175f",
   "metadata": {},
   "outputs": [
    {
     "data": {
      "text/plain": [
       "Index(['Div', 'Date', 'HomeTeam', 'AwayTeam', 'FTHG', 'FTAG', 'FTR', 'HTHG',\n",
       "       'HTAG', 'HTR', 'Season'],\n",
       "      dtype='object')"
      ]
     },
     "execution_count": 108,
     "metadata": {},
     "output_type": "execute_result"
    }
   ],
   "source": [
    "Bundesliga_1993.columns"
   ]
  },
  {
   "cell_type": "code",
   "execution_count": 110,
   "id": "aef9ef6d-dc68-470b-9a9b-c476cf5e2d84",
   "metadata": {},
   "outputs": [
    {
     "data": {
      "text/html": [
       "<div>\n",
       "<style scoped>\n",
       "    .dataframe tbody tr th:only-of-type {\n",
       "        vertical-align: middle;\n",
       "    }\n",
       "\n",
       "    .dataframe tbody tr th {\n",
       "        vertical-align: top;\n",
       "    }\n",
       "\n",
       "    .dataframe thead th {\n",
       "        text-align: right;\n",
       "    }\n",
       "</style>\n",
       "<table border=\"1\" class=\"dataframe\">\n",
       "  <thead>\n",
       "    <tr style=\"text-align: right;\">\n",
       "      <th></th>\n",
       "      <th>Date</th>\n",
       "      <th>HomeTeam</th>\n",
       "      <th>AwayTeam</th>\n",
       "      <th>HomeGoals</th>\n",
       "      <th>AwayGoals</th>\n",
       "      <th>Winner</th>\n",
       "      <th>League</th>\n",
       "    </tr>\n",
       "  </thead>\n",
       "  <tbody>\n",
       "    <tr>\n",
       "      <th>0</th>\n",
       "      <td>1993-07-08</td>\n",
       "      <td>Bayern Munich</td>\n",
       "      <td>Freiburg</td>\n",
       "      <td>3</td>\n",
       "      <td>1</td>\n",
       "      <td>H</td>\n",
       "      <td>Bundesliga</td>\n",
       "    </tr>\n",
       "    <tr>\n",
       "      <th>1</th>\n",
       "      <td>1993-07-08</td>\n",
       "      <td>Dortmund</td>\n",
       "      <td>Karlsruhe</td>\n",
       "      <td>2</td>\n",
       "      <td>1</td>\n",
       "      <td>H</td>\n",
       "      <td>Bundesliga</td>\n",
       "    </tr>\n",
       "  </tbody>\n",
       "</table>\n",
       "</div>"
      ],
      "text/plain": [
       "         Date       HomeTeam   AwayTeam  HomeGoals  AwayGoals Winner  \\\n",
       "0  1993-07-08  Bayern Munich   Freiburg          3          1      H   \n",
       "1  1993-07-08       Dortmund  Karlsruhe          2          1      H   \n",
       "\n",
       "       League  \n",
       "0  Bundesliga  \n",
       "1  Bundesliga  "
      ]
     },
     "execution_count": 110,
     "metadata": {},
     "output_type": "execute_result"
    }
   ],
   "source": [
    "# Dropping specific columns ('Div', 'Season', 'HTHG', 'HTAG', 'HTR') from the 'Bundesliga_1993' DataFrame\n",
    "Bundesliga_1993_new = Bundesliga_1993.drop(columns=['Div', 'Season', 'HTHG', 'HTAG', 'HTR'], axis=1)\n",
    "\n",
    "# Renaming selected columns of the newly created DataFrame ('Bundesliga_1993_new') for better understanding and consistency\n",
    "Bundesliga_1993_new = Bundesliga_1993_new.rename(columns={'Date': 'Date', 'HomeTeam': 'HomeTeam', 'AwayTeam': 'AwayTeam', 'FTHG': 'HomeGoals', 'FTAG': 'AwayGoals', 'FTR': 'Winner'})\n",
    "\n",
    "# Converting the 'Date' column to datetime format and ensuring a consistent date format ('%Y-%m-%d')\n",
    "Bundesliga_1993_new['Date'] = pd.to_datetime(Bundesliga_1993_new['Date'], format='mixed').dt.strftime('%Y-%m-%d')\n",
    "\n",
    "# Adding a 'League' column with the value 'Bundesliga' for each row to indicate the league name\n",
    "Bundesliga_1993_new['League'] = 'Bundesliga'\n",
    "\n",
    "Bundesliga_1993_new.head(2)"
   ]
  },
  {
   "cell_type": "markdown",
   "id": "7ab19ea3-b18a-464e-8a6f-23665edae8f3",
   "metadata": {
    "jp-MarkdownHeadingCollapsed": true
   },
   "source": [
    "# *Bundesliga_2005*"
   ]
  },
  {
   "cell_type": "code",
   "execution_count": 81,
   "id": "d55aec38-715d-4bde-a4a1-3ef55aeb3438",
   "metadata": {},
   "outputs": [
    {
     "data": {
      "text/plain": [
       "Index(['Unnamed: 0', 'MATCH_DATE', 'LEAGUE_NAME', 'SEASON', 'LEAGUE',\n",
       "       'FINISHED', 'LOCATION', 'VIEWER', 'MATCHDAY', 'MATCHDAY_NR',\n",
       "       'HOME_TEAM_ID', 'HOME_TEAM_NAME', 'HOME_TEAM', 'HOME_ICON',\n",
       "       'AWAY_TEAM_ID', 'AWAY_TEAM_NAME', 'AWAY_TEAM', 'AWAY_ICON',\n",
       "       'GOALS_HOME', 'GOALS_AWAY', 'DRAW', 'WIN_HOME', 'WIN_AWAY'],\n",
       "      dtype='object')"
      ]
     },
     "execution_count": 81,
     "metadata": {},
     "output_type": "execute_result"
    }
   ],
   "source": [
    "Bundesliga_2005.columns"
   ]
  },
  {
   "cell_type": "code",
   "execution_count": 82,
   "id": "7cbcacb2-4f59-458b-8f8b-a999f96d0cfc",
   "metadata": {},
   "outputs": [
    {
     "data": {
      "text/html": [
       "<div>\n",
       "<style scoped>\n",
       "    .dataframe tbody tr th:only-of-type {\n",
       "        vertical-align: middle;\n",
       "    }\n",
       "\n",
       "    .dataframe tbody tr th {\n",
       "        vertical-align: top;\n",
       "    }\n",
       "\n",
       "    .dataframe thead th {\n",
       "        text-align: right;\n",
       "    }\n",
       "</style>\n",
       "<table border=\"1\" class=\"dataframe\">\n",
       "  <thead>\n",
       "    <tr style=\"text-align: right;\">\n",
       "      <th></th>\n",
       "      <th>Date</th>\n",
       "      <th>HomeTeam</th>\n",
       "      <th>AwayTeam</th>\n",
       "      <th>HomeGoals</th>\n",
       "      <th>AwayGoals</th>\n",
       "      <th>Winner</th>\n",
       "      <th>League</th>\n",
       "    </tr>\n",
       "  </thead>\n",
       "  <tbody>\n",
       "    <tr>\n",
       "      <th>0</th>\n",
       "      <td>2005-08-05</td>\n",
       "      <td>FC Bayern München</td>\n",
       "      <td>Borussia Mönchengladbach</td>\n",
       "      <td>3</td>\n",
       "      <td>0</td>\n",
       "      <td>H</td>\n",
       "      <td>Bundesliga</td>\n",
       "    </tr>\n",
       "    <tr>\n",
       "      <th>1</th>\n",
       "      <td>2005-08-06</td>\n",
       "      <td>1. FC Köln</td>\n",
       "      <td>1. FSV Mainz 05</td>\n",
       "      <td>1</td>\n",
       "      <td>0</td>\n",
       "      <td>H</td>\n",
       "      <td>Bundesliga</td>\n",
       "    </tr>\n",
       "  </tbody>\n",
       "</table>\n",
       "</div>"
      ],
      "text/plain": [
       "         Date           HomeTeam                  AwayTeam  HomeGoals  \\\n",
       "0  2005-08-05  FC Bayern München  Borussia Mönchengladbach          3   \n",
       "1  2005-08-06         1. FC Köln           1. FSV Mainz 05          1   \n",
       "\n",
       "   AwayGoals Winner      League  \n",
       "0          0      H  Bundesliga  \n",
       "1          0      H  Bundesliga  "
      ]
     },
     "execution_count": 82,
     "metadata": {},
     "output_type": "execute_result"
    }
   ],
   "source": [
    "Bundesliga_2005_new = Bundesliga_2005.loc[:, ['MATCH_DATE', 'HOME_TEAM_NAME', 'AWAY_TEAM_NAME', 'GOALS_HOME', 'GOALS_AWAY']]\n",
    "Bundesliga_2005_new = Bundesliga_2005_new.rename(columns={'MATCH_DATE': 'Date', 'HOME_TEAM_NAME': 'HomeTeam', 'AWAY_TEAM_NAME': 'AwayTeam', 'GOALS_HOME': 'HomeGoals', 'GOALS_AWAY': 'AwayGoals'})\n",
    "Bundesliga_2005_new['Winner'] = ['H' if x > y else 'A' if x < y else 'D' for x, y in zip(Bundesliga_2005_new['HomeGoals'], Bundesliga_2005_new['AwayGoals'])]\n",
    "Bundesliga_2005_new['Date'] = pd.to_datetime(Bundesliga_2005_new['Date'], format='mixed').dt.strftime('%Y-%m-%d')\n",
    "Bundesliga_2005_new['League'] = 'Bundesliga'\n",
    "Bundesliga_2005_new.head(2)"
   ]
  },
  {
   "cell_type": "code",
   "execution_count": 83,
   "id": "8833ade7-920c-4045-9cdc-ecebef2ddb1a",
   "metadata": {},
   "outputs": [
    {
     "data": {
      "text/plain": [
       "(array(['Bayern Munich', 'Dortmund', 'Duisburg', 'FC Koln', 'Hamburg',\n",
       "        'Leipzig', \"M'Gladbach\", 'Wattenscheid', 'Werder Bremen',\n",
       "        'Dresden', 'Ein Frankfurt', 'Freiburg', 'Kaiserslautern',\n",
       "        'Karlsruhe', 'Leverkusen', 'Nurnberg', 'Schalke 04', 'Stuttgart',\n",
       "        'Uerdingen', 'Bochum', 'Munich 1860', \"M'gladbach\",\n",
       "        'Hansa Rostock', 'St Pauli', 'Dusseldorf', 'Bielefeld', 'Hertha',\n",
       "        'Wolfsburg', 'Ulm', 'Unterhaching', 'Cottbus', 'Hannover', 'Mainz',\n",
       "        'Aachen', 'Hoffenheim', 'Augsburg', 'Greuther Furth',\n",
       "        'Fortuna Dusseldorf', 'Braunschweig', 'Paderborn', 'Darmstadt',\n",
       "        'Ingolstadt', 'RB Leipzig'], dtype=object),\n",
       " array(['FC Bayern München', '1. FC Köln', 'MSV Duisburg', 'Hamburger SV',\n",
       "        'VfL Wolfsburg', 'Werder Bremen', 'Hannover 96', 'FC Schalke 04',\n",
       "        'Eintracht Frankfurt', 'Bayer Leverkusen',\n",
       "        'Borussia Mönchengladbach', 'Borussia Dortmund', 'Hertha BSC',\n",
       "        '1. FC Kaiserslautern', '1. FC Nürnberg', 'Arminia Bielefeld',\n",
       "        'VfB Stuttgart', '1. FSV Mainz 05', 'FC Energie Cottbus',\n",
       "        'Alemannia Aachen', 'VfL Bochum', 'Karlsruher SC',\n",
       "        'FC Hansa Rostock', 'TSG 1899 Hoffenheim', 'SC Freiburg',\n",
       "        'FC St. Pauli', 'FC Augsburg', 'SpVgg Greuther Fürth',\n",
       "        'Fortuna Düsseldorf', 'Eintracht Braunschweig', 'SC Paderborn 07',\n",
       "        'SV Darmstadt 98', 'FC Ingolstadt 04', 'RB Leipzig',\n",
       "        '1. FC Union Berlin'], dtype=object))"
      ]
     },
     "execution_count": 83,
     "metadata": {},
     "output_type": "execute_result"
    }
   ],
   "source": [
    "# Team names are not consistent in BL1 and BL2\n",
    "Bundesliga_1993_new['HomeTeam'].unique(), Bundesliga_2005_new['HomeTeam'].unique()"
   ]
  },
  {
   "cell_type": "markdown",
   "id": "a0d7ac2d-97f1-426f-9fee-954a9fa549a3",
   "metadata": {
    "jp-MarkdownHeadingCollapsed": true
   },
   "source": [
    "# **Matching Team Names in Bundesliga Datasets**"
   ]
  },
  {
   "cell_type": "code",
   "execution_count": 84,
   "id": "e2679379-bc3d-49bd-9f7a-72021c74b379",
   "metadata": {},
   "outputs": [],
   "source": [
    "def levenshtein_distance(s1, s2):\n",
    "    return SequenceMatcher(None, s1, s2).ratio()\n",
    "\n",
    "# find the best match for each team in Bundesliga_1993\n",
    "teams_2005 = [team for team in Bundesliga_2005_new['HomeTeam'].unique() if len(team) > 1]\n",
    "for t1 in Bundesliga_1993_new['HomeTeam'].unique():\n",
    "    best_match = ''\n",
    "    best_match_score = 0\n",
    "    for t2 in teams_2005:\n",
    "        score = levenshtein_distance(t1.lower(), t2.lower())\n",
    "        if score > best_match_score:\n",
    "            best_match = t2\n",
    "            best_match_score = score\n",
    "\n",
    "    if best_match != '':\n",
    "        # change each team name in Bundesliga_1993 to the best match from Bundesliga_2005\n",
    "        Bundesliga_1993_new['HomeTeam'] = Bundesliga_1993_new['HomeTeam'].replace(t1, best_match)\n",
    "        Bundesliga_1993_new['AwayTeam'] = Bundesliga_1993_new['AwayTeam'].replace(t1, best_match)\n",
    "\n",
    "        # remove the best match from Bundesliga_2005 to avoid matching it again\n",
    "        teams_2005.remove(best_match)"
   ]
  },
  {
   "cell_type": "code",
   "execution_count": 85,
   "id": "7ca26326-5323-45aa-9b85-846ecbfba3dc",
   "metadata": {},
   "outputs": [
    {
     "data": {
      "text/html": [
       "<div>\n",
       "<style scoped>\n",
       "    .dataframe tbody tr th:only-of-type {\n",
       "        vertical-align: middle;\n",
       "    }\n",
       "\n",
       "    .dataframe tbody tr th {\n",
       "        vertical-align: top;\n",
       "    }\n",
       "\n",
       "    .dataframe thead th {\n",
       "        text-align: right;\n",
       "    }\n",
       "</style>\n",
       "<table border=\"1\" class=\"dataframe\">\n",
       "  <thead>\n",
       "    <tr style=\"text-align: right;\">\n",
       "      <th></th>\n",
       "      <th>Date</th>\n",
       "      <th>HomeTeam</th>\n",
       "      <th>AwayTeam</th>\n",
       "      <th>HomeGoals</th>\n",
       "      <th>AwayGoals</th>\n",
       "      <th>Winner</th>\n",
       "      <th>League</th>\n",
       "    </tr>\n",
       "  </thead>\n",
       "  <tbody>\n",
       "    <tr>\n",
       "      <th>0</th>\n",
       "      <td>1993-07-08</td>\n",
       "      <td>FC Bayern München</td>\n",
       "      <td>SC Freiburg</td>\n",
       "      <td>3</td>\n",
       "      <td>1</td>\n",
       "      <td>H</td>\n",
       "      <td>Bundesliga</td>\n",
       "    </tr>\n",
       "    <tr>\n",
       "      <th>1</th>\n",
       "      <td>1993-07-08</td>\n",
       "      <td>Borussia Dortmund</td>\n",
       "      <td>Karlsruher SC</td>\n",
       "      <td>2</td>\n",
       "      <td>1</td>\n",
       "      <td>H</td>\n",
       "      <td>Bundesliga</td>\n",
       "    </tr>\n",
       "    <tr>\n",
       "      <th>2</th>\n",
       "      <td>1993-07-08</td>\n",
       "      <td>MSV Duisburg</td>\n",
       "      <td>FC Energie Cottbus</td>\n",
       "      <td>2</td>\n",
       "      <td>2</td>\n",
       "      <td>D</td>\n",
       "      <td>Bundesliga</td>\n",
       "    </tr>\n",
       "    <tr>\n",
       "      <th>3</th>\n",
       "      <td>1993-07-08</td>\n",
       "      <td>1. FC Köln</td>\n",
       "      <td>1. FC Kaiserslautern</td>\n",
       "      <td>0</td>\n",
       "      <td>2</td>\n",
       "      <td>A</td>\n",
       "      <td>Bundesliga</td>\n",
       "    </tr>\n",
       "    <tr>\n",
       "      <th>4</th>\n",
       "      <td>1993-07-08</td>\n",
       "      <td>Hamburger SV</td>\n",
       "      <td>1. FC Nürnberg</td>\n",
       "      <td>5</td>\n",
       "      <td>2</td>\n",
       "      <td>H</td>\n",
       "      <td>Bundesliga</td>\n",
       "    </tr>\n",
       "    <tr>\n",
       "      <th>5</th>\n",
       "      <td>1993-07-08</td>\n",
       "      <td>RB Leipzig</td>\n",
       "      <td>Bayer Leverkusen</td>\n",
       "      <td>3</td>\n",
       "      <td>3</td>\n",
       "      <td>D</td>\n",
       "      <td>Bundesliga</td>\n",
       "    </tr>\n",
       "    <tr>\n",
       "      <th>6</th>\n",
       "      <td>1993-07-08</td>\n",
       "      <td>Borussia Mönchengladbach</td>\n",
       "      <td>Eintracht Frankfurt</td>\n",
       "      <td>0</td>\n",
       "      <td>4</td>\n",
       "      <td>A</td>\n",
       "      <td>Bundesliga</td>\n",
       "    </tr>\n",
       "    <tr>\n",
       "      <th>7</th>\n",
       "      <td>1993-07-08</td>\n",
       "      <td>Eintracht Braunschweig</td>\n",
       "      <td>FC Schalke 04</td>\n",
       "      <td>3</td>\n",
       "      <td>0</td>\n",
       "      <td>H</td>\n",
       "      <td>Bundesliga</td>\n",
       "    </tr>\n",
       "    <tr>\n",
       "      <th>8</th>\n",
       "      <td>1993-07-08</td>\n",
       "      <td>Werder Bremen</td>\n",
       "      <td>VfB Stuttgart</td>\n",
       "      <td>5</td>\n",
       "      <td>1</td>\n",
       "      <td>H</td>\n",
       "      <td>Bundesliga</td>\n",
       "    </tr>\n",
       "    <tr>\n",
       "      <th>9</th>\n",
       "      <td>1993-08-14</td>\n",
       "      <td>Bayer Leverkusen</td>\n",
       "      <td>MSV Duisburg</td>\n",
       "      <td>0</td>\n",
       "      <td>1</td>\n",
       "      <td>A</td>\n",
       "      <td>Bundesliga</td>\n",
       "    </tr>\n",
       "  </tbody>\n",
       "</table>\n",
       "</div>"
      ],
      "text/plain": [
       "         Date                  HomeTeam              AwayTeam  HomeGoals  \\\n",
       "0  1993-07-08         FC Bayern München           SC Freiburg          3   \n",
       "1  1993-07-08         Borussia Dortmund         Karlsruher SC          2   \n",
       "2  1993-07-08              MSV Duisburg    FC Energie Cottbus          2   \n",
       "3  1993-07-08                1. FC Köln  1. FC Kaiserslautern          0   \n",
       "4  1993-07-08              Hamburger SV        1. FC Nürnberg          5   \n",
       "5  1993-07-08                RB Leipzig      Bayer Leverkusen          3   \n",
       "6  1993-07-08  Borussia Mönchengladbach   Eintracht Frankfurt          0   \n",
       "7  1993-07-08    Eintracht Braunschweig         FC Schalke 04          3   \n",
       "8  1993-07-08             Werder Bremen         VfB Stuttgart          5   \n",
       "9  1993-08-14          Bayer Leverkusen          MSV Duisburg          0   \n",
       "\n",
       "   AwayGoals Winner      League  \n",
       "0          1      H  Bundesliga  \n",
       "1          1      H  Bundesliga  \n",
       "2          2      D  Bundesliga  \n",
       "3          2      A  Bundesliga  \n",
       "4          2      H  Bundesliga  \n",
       "5          3      D  Bundesliga  \n",
       "6          4      A  Bundesliga  \n",
       "7          0      H  Bundesliga  \n",
       "8          1      H  Bundesliga  \n",
       "9          1      A  Bundesliga  "
      ]
     },
     "execution_count": 85,
     "metadata": {},
     "output_type": "execute_result"
    }
   ],
   "source": [
    "Bundesliga_1993_new.head(10)"
   ]
  },
  {
   "cell_type": "markdown",
   "id": "9d0757ca-a2a0-4b98-bb8b-c5aa0371b4cc",
   "metadata": {
    "jp-MarkdownHeadingCollapsed": true
   },
   "source": [
    "# *France_League*"
   ]
  },
  {
   "cell_type": "code",
   "execution_count": 86,
   "id": "28365a8d-ee43-4fba-8b7c-f7b6099b8bb9",
   "metadata": {},
   "outputs": [
    {
     "data": {
      "text/plain": [
       "Index(['id', 'date', 'local', 'visiteur', 'ligue', 'saison', 'local_score',\n",
       "       'visiteur_score', 'resultat'],\n",
       "      dtype='object')"
      ]
     },
     "execution_count": 86,
     "metadata": {},
     "output_type": "execute_result"
    }
   ],
   "source": [
    "France_League.columns"
   ]
  },
  {
   "cell_type": "code",
   "execution_count": 87,
   "id": "0fa550b3-d967-43ab-ac58-e3a58ac055d7",
   "metadata": {},
   "outputs": [
    {
     "data": {
      "text/html": [
       "<div>\n",
       "<style scoped>\n",
       "    .dataframe tbody tr th:only-of-type {\n",
       "        vertical-align: middle;\n",
       "    }\n",
       "\n",
       "    .dataframe tbody tr th {\n",
       "        vertical-align: top;\n",
       "    }\n",
       "\n",
       "    .dataframe thead th {\n",
       "        text-align: right;\n",
       "    }\n",
       "</style>\n",
       "<table border=\"1\" class=\"dataframe\">\n",
       "  <thead>\n",
       "    <tr style=\"text-align: right;\">\n",
       "      <th></th>\n",
       "      <th>Date</th>\n",
       "      <th>HomeTeam</th>\n",
       "      <th>AwayTeam</th>\n",
       "      <th>HomeGoals</th>\n",
       "      <th>AwayGoals</th>\n",
       "      <th>Winner</th>\n",
       "      <th>League</th>\n",
       "    </tr>\n",
       "  </thead>\n",
       "  <tbody>\n",
       "    <tr>\n",
       "      <th>0</th>\n",
       "      <td>2023-01-29</td>\n",
       "      <td>OGC Nice</td>\n",
       "      <td>LOSC Lille</td>\n",
       "      <td>1</td>\n",
       "      <td>0</td>\n",
       "      <td>H</td>\n",
       "      <td>Ligue 1</td>\n",
       "    </tr>\n",
       "    <tr>\n",
       "      <th>1</th>\n",
       "      <td>2023-01-29</td>\n",
       "      <td>AJ Auxerre</td>\n",
       "      <td>Montpellier HSC</td>\n",
       "      <td>0</td>\n",
       "      <td>2</td>\n",
       "      <td>A</td>\n",
       "      <td>Ligue 1</td>\n",
       "    </tr>\n",
       "  </tbody>\n",
       "</table>\n",
       "</div>"
      ],
      "text/plain": [
       "         Date    HomeTeam         AwayTeam  HomeGoals  AwayGoals Winner  \\\n",
       "0  2023-01-29    OGC Nice       LOSC Lille          1          0      H   \n",
       "1  2023-01-29  AJ Auxerre  Montpellier HSC          0          2      A   \n",
       "\n",
       "    League  \n",
       "0  Ligue 1  \n",
       "1  Ligue 1  "
      ]
     },
     "execution_count": 87,
     "metadata": {},
     "output_type": "execute_result"
    }
   ],
   "source": [
    "France_League_new = France_League.loc[:, ['date', 'local', 'visiteur', 'local_score', 'visiteur_score']]\n",
    "France_League_new = France_League_new.rename(columns={'date': 'Date', 'local': 'HomeTeam', 'visiteur': 'AwayTeam', 'local_score': 'HomeGoals', 'visiteur_score': 'AwayGoals'})\n",
    "France_League_new['Winner'] = ['H' if x > y else 'A' if x < y else 'D' for x, y in zip(France_League_new['HomeGoals'], France_League_new['AwayGoals'])]\n",
    "France_League_new['Date'] = pd.to_datetime(France_League_new['Date'], format='mixed').dt.strftime('%Y-%m-%d')\n",
    "France_League_new['League'] = 'Ligue 1'\n",
    "France_League_new.head(2)"
   ]
  },
  {
   "cell_type": "markdown",
   "id": "7b6c2c38-0160-46ff-b27c-6ea45c5b6791",
   "metadata": {
    "jp-MarkdownHeadingCollapsed": true
   },
   "source": [
    "# *Premier_League*"
   ]
  },
  {
   "cell_type": "code",
   "execution_count": 88,
   "id": "053f6e01-6c2e-4d6d-8659-90723fec7d96",
   "metadata": {},
   "outputs": [
    {
     "data": {
      "text/plain": [
       "Index(['Season_End_Year', 'Wk', 'Date', 'Home', 'HomeGoals', 'AwayGoals',\n",
       "       'Away', 'FTR'],\n",
       "      dtype='object')"
      ]
     },
     "execution_count": 88,
     "metadata": {},
     "output_type": "execute_result"
    }
   ],
   "source": [
    "Premier_League.columns"
   ]
  },
  {
   "cell_type": "code",
   "execution_count": 89,
   "id": "4dd31b46-ba92-4513-8df1-a7f1ed14858c",
   "metadata": {},
   "outputs": [
    {
     "data": {
      "text/html": [
       "<div>\n",
       "<style scoped>\n",
       "    .dataframe tbody tr th:only-of-type {\n",
       "        vertical-align: middle;\n",
       "    }\n",
       "\n",
       "    .dataframe tbody tr th {\n",
       "        vertical-align: top;\n",
       "    }\n",
       "\n",
       "    .dataframe thead th {\n",
       "        text-align: right;\n",
       "    }\n",
       "</style>\n",
       "<table border=\"1\" class=\"dataframe\">\n",
       "  <thead>\n",
       "    <tr style=\"text-align: right;\">\n",
       "      <th></th>\n",
       "      <th>Date</th>\n",
       "      <th>HomeTeam</th>\n",
       "      <th>AwayTeam</th>\n",
       "      <th>HomeGoals</th>\n",
       "      <th>AwayGoals</th>\n",
       "      <th>Winner</th>\n",
       "      <th>League</th>\n",
       "    </tr>\n",
       "  </thead>\n",
       "  <tbody>\n",
       "    <tr>\n",
       "      <th>0</th>\n",
       "      <td>1992-08-15</td>\n",
       "      <td>Coventry City</td>\n",
       "      <td>Middlesbrough</td>\n",
       "      <td>2</td>\n",
       "      <td>1</td>\n",
       "      <td>H</td>\n",
       "      <td>Premier League</td>\n",
       "    </tr>\n",
       "    <tr>\n",
       "      <th>1</th>\n",
       "      <td>1992-08-15</td>\n",
       "      <td>Leeds United</td>\n",
       "      <td>Wimbledon</td>\n",
       "      <td>2</td>\n",
       "      <td>1</td>\n",
       "      <td>H</td>\n",
       "      <td>Premier League</td>\n",
       "    </tr>\n",
       "  </tbody>\n",
       "</table>\n",
       "</div>"
      ],
      "text/plain": [
       "         Date       HomeTeam       AwayTeam  HomeGoals  AwayGoals Winner  \\\n",
       "0  1992-08-15  Coventry City  Middlesbrough          2          1      H   \n",
       "1  1992-08-15   Leeds United      Wimbledon          2          1      H   \n",
       "\n",
       "           League  \n",
       "0  Premier League  \n",
       "1  Premier League  "
      ]
     },
     "execution_count": 89,
     "metadata": {},
     "output_type": "execute_result"
    }
   ],
   "source": [
    "Premier_League_new = Premier_League.loc[:, ['Date', 'Home', 'Away', 'HomeGoals', 'AwayGoals', 'FTR']]\n",
    "Premier_League_new = Premier_League_new.rename(columns={'Home': 'HomeTeam', 'Away': 'AwayTeam', 'FTR': 'Winner'})\n",
    "Premier_League_new['Date'] = pd.to_datetime(Premier_League_new['Date'], format='mixed').dt.strftime('%Y-%m-%d')\n",
    "Premier_League_new['League'] = 'Premier League'\n",
    "Premier_League_new.head(2)"
   ]
  },
  {
   "cell_type": "markdown",
   "id": "a0ed13cf-8bcc-4003-860a-6a10729a5636",
   "metadata": {
    "jp-MarkdownHeadingCollapsed": true
   },
   "source": [
    "# *Spanish_League*"
   ]
  },
  {
   "cell_type": "code",
   "execution_count": 90,
   "id": "09e993ce-4a21-4298-9f1c-15eff9d02375",
   "metadata": {},
   "outputs": [
    {
     "data": {
      "text/plain": [
       "Index(['id', 'season', 'division', 'round', 'localTeam', 'visitorTeam',\n",
       "       'localGoals', 'visitorGoals', 'date', 'timestamp'],\n",
       "      dtype='object')"
      ]
     },
     "execution_count": 90,
     "metadata": {},
     "output_type": "execute_result"
    }
   ],
   "source": [
    "Spanish_League.columns"
   ]
  },
  {
   "cell_type": "code",
   "execution_count": 91,
   "id": "b6a7b8f7-a8cf-45d1-8b8c-80534fb0355e",
   "metadata": {},
   "outputs": [
    {
     "data": {
      "text/html": [
       "<div>\n",
       "<style scoped>\n",
       "    .dataframe tbody tr th:only-of-type {\n",
       "        vertical-align: middle;\n",
       "    }\n",
       "\n",
       "    .dataframe tbody tr th {\n",
       "        vertical-align: top;\n",
       "    }\n",
       "\n",
       "    .dataframe thead th {\n",
       "        text-align: right;\n",
       "    }\n",
       "</style>\n",
       "<table border=\"1\" class=\"dataframe\">\n",
       "  <thead>\n",
       "    <tr style=\"text-align: right;\">\n",
       "      <th></th>\n",
       "      <th>Date</th>\n",
       "      <th>HomeTeam</th>\n",
       "      <th>AwayTeam</th>\n",
       "      <th>HomeGoals</th>\n",
       "      <th>AwayGoals</th>\n",
       "      <th>Winner</th>\n",
       "      <th>League</th>\n",
       "    </tr>\n",
       "  </thead>\n",
       "  <tbody>\n",
       "    <tr>\n",
       "      <th>0</th>\n",
       "      <td>1970-12-09</td>\n",
       "      <td>Atletico de Bilbao</td>\n",
       "      <td>Barcelona</td>\n",
       "      <td>1</td>\n",
       "      <td>1</td>\n",
       "      <td>D</td>\n",
       "      <td>La Liga</td>\n",
       "    </tr>\n",
       "    <tr>\n",
       "      <th>1</th>\n",
       "      <td>1970-12-09</td>\n",
       "      <td>Las Palmas</td>\n",
       "      <td>Atletico de Madrid</td>\n",
       "      <td>1</td>\n",
       "      <td>1</td>\n",
       "      <td>D</td>\n",
       "      <td>La Liga</td>\n",
       "    </tr>\n",
       "  </tbody>\n",
       "</table>\n",
       "</div>"
      ],
      "text/plain": [
       "         Date            HomeTeam            AwayTeam  HomeGoals  AwayGoals  \\\n",
       "0  1970-12-09  Atletico de Bilbao           Barcelona          1          1   \n",
       "1  1970-12-09          Las Palmas  Atletico de Madrid          1          1   \n",
       "\n",
       "  Winner   League  \n",
       "0      D  La Liga  \n",
       "1      D  La Liga  "
      ]
     },
     "execution_count": 91,
     "metadata": {},
     "output_type": "execute_result"
    }
   ],
   "source": [
    "Spanish_League_new = Spanish_League.loc[:, ['date', 'localTeam', 'visitorTeam', 'localGoals', 'visitorGoals']]\n",
    "Spanish_League_new = Spanish_League_new.rename(columns={'date': 'Date', 'localTeam': 'HomeTeam', 'visitorTeam': 'AwayTeam', 'localGoals': 'HomeGoals', 'visitorGoals': 'AwayGoals'})\n",
    "Spanish_League_new['Winner'] = ['H' if x > y else 'A' if x < y else 'D' for x, y in zip(Spanish_League_new['HomeGoals'], Spanish_League_new['AwayGoals'])]\n",
    "Spanish_League_new['Date'] = pd.to_datetime(Spanish_League_new['Date'], format='mixed').dt.strftime('%Y-%m-%d')\n",
    "Spanish_League_new['League'] = 'La Liga'\n",
    "Spanish_League_new.head(2)"
   ]
  },
  {
   "cell_type": "markdown",
   "metadata": {},
   "source": [
    "# **Spanish League 1995-2023**"
   ]
  },
  {
   "cell_type": "code",
   "execution_count": 92,
   "metadata": {},
   "outputs": [
    {
     "data": {
      "text/plain": [
       "Index(['Season', 'Date', 'HomeTeam', 'AwayTeam', 'FTHG', 'FTAG', 'FTR', 'HTHG',\n",
       "       'HTAG', 'HTR'],\n",
       "      dtype='object')"
      ]
     },
     "execution_count": 92,
     "metadata": {},
     "output_type": "execute_result"
    }
   ],
   "source": [
    "Spanish_League_1995.columns"
   ]
  },
  {
   "cell_type": "code",
   "execution_count": 93,
   "metadata": {},
   "outputs": [
    {
     "data": {
      "text/html": [
       "<div>\n",
       "<style scoped>\n",
       "    .dataframe tbody tr th:only-of-type {\n",
       "        vertical-align: middle;\n",
       "    }\n",
       "\n",
       "    .dataframe tbody tr th {\n",
       "        vertical-align: top;\n",
       "    }\n",
       "\n",
       "    .dataframe thead th {\n",
       "        text-align: right;\n",
       "    }\n",
       "</style>\n",
       "<table border=\"1\" class=\"dataframe\">\n",
       "  <thead>\n",
       "    <tr style=\"text-align: right;\">\n",
       "      <th></th>\n",
       "      <th>Date</th>\n",
       "      <th>HomeTeam</th>\n",
       "      <th>AwayTeam</th>\n",
       "      <th>HomeGoals</th>\n",
       "      <th>AwayGoals</th>\n",
       "      <th>Winner</th>\n",
       "      <th>League</th>\n",
       "    </tr>\n",
       "  </thead>\n",
       "  <tbody>\n",
       "    <tr>\n",
       "      <th>0</th>\n",
       "      <td>1995-02-09</td>\n",
       "      <td>La Coruna</td>\n",
       "      <td>Valencia</td>\n",
       "      <td>3</td>\n",
       "      <td>0</td>\n",
       "      <td>H</td>\n",
       "      <td>La Liga</td>\n",
       "    </tr>\n",
       "    <tr>\n",
       "      <th>1</th>\n",
       "      <td>1995-02-09</td>\n",
       "      <td>Sp Gijon</td>\n",
       "      <td>Albacete</td>\n",
       "      <td>3</td>\n",
       "      <td>0</td>\n",
       "      <td>H</td>\n",
       "      <td>La Liga</td>\n",
       "    </tr>\n",
       "  </tbody>\n",
       "</table>\n",
       "</div>"
      ],
      "text/plain": [
       "         Date   HomeTeam  AwayTeam  HomeGoals  AwayGoals Winner   League\n",
       "0  1995-02-09  La Coruna  Valencia          3          0      H  La Liga\n",
       "1  1995-02-09   Sp Gijon  Albacete          3          0      H  La Liga"
      ]
     },
     "execution_count": 93,
     "metadata": {},
     "output_type": "execute_result"
    }
   ],
   "source": [
    "Spanish_League_1995_new = Spanish_League_1995.loc[:, ['Date', 'HomeTeam', 'AwayTeam', 'FTHG', 'FTAG']]\n",
    "Spanish_League_1995_new = Spanish_League_1995_new.rename(columns={'FTHG': 'HomeGoals', 'FTAG': 'AwayGoals'})\n",
    "Spanish_League_1995_new['Winner'] = ['H' if x > y else 'A' if x < y else 'D' for x, y in zip(Spanish_League_1995_new['HomeGoals'], Spanish_League_1995_new['AwayGoals'])]\n",
    "Spanish_League_1995_new['Date'] = pd.to_datetime(Spanish_League_1995_new['Date'], format='mixed').dt.strftime('%Y-%m-%d')\n",
    "Spanish_League_1995_new['League'] = 'La Liga'\n",
    "Spanish_League_1995_new.head(2)"
   ]
  },
  {
   "cell_type": "code",
   "execution_count": 94,
   "metadata": {},
   "outputs": [],
   "source": [
    "# find the best match for each team in Spanish_League\n",
    "teams_1995 = [team for team in Spanish_League_1995_new['HomeTeam'].unique() if len(team) > 1]\n",
    "for t1 in Spanish_League_new['HomeTeam'].unique():\n",
    "    best_match = ''\n",
    "    best_match_score = 0\n",
    "    for t2 in teams_1995:\n",
    "        score = levenshtein_distance(t1.lower(), t2.lower())\n",
    "        if score > best_match_score:\n",
    "            best_match = t2\n",
    "            best_match_score = score\n",
    "\n",
    "    if best_match != '':\n",
    "        # change each team name in Spanish_League to the best match from Spanish_League_1995\n",
    "        Spanish_League_new['HomeTeam'] = Spanish_League_new['HomeTeam'].replace(t1, best_match)\n",
    "        Spanish_League_new['AwayTeam'] = Spanish_League_new['AwayTeam'].replace(t1, best_match)\n",
    "\n",
    "        # remove the best match from teams_1995 to avoid matching it again\n",
    "        teams_1995.remove(best_match)"
   ]
  },
  {
   "cell_type": "markdown",
   "id": "bcb249d7-d533-4894-9a83-0b59bc93960d",
   "metadata": {
    "jp-MarkdownHeadingCollapsed": true
   },
   "source": [
    "# *Turkish_League*"
   ]
  },
  {
   "cell_type": "code",
   "execution_count": 95,
   "id": "e5723a50-1f14-4ff8-b619-2f9fdae39d4b",
   "metadata": {},
   "outputs": [
    {
     "data": {
      "text/plain": [
       "Index(['Date', 'Season', 'Week', 'home', 'visitor', 'FT', 'hgoal', 'vgoal',\n",
       "       'division', 'tier', 'totgoal', 'goaldiff', 'result', 'HT', 'hgoal_half',\n",
       "       'vgoal_half', 'half_totgoal', 'half_goaldiff', 'result_half', 'fans',\n",
       "       'neutral', 'home_red_card', 'visitor_red_card'],\n",
       "      dtype='object')"
      ]
     },
     "execution_count": 95,
     "metadata": {},
     "output_type": "execute_result"
    }
   ],
   "source": [
    "Turkish_League.columns"
   ]
  },
  {
   "cell_type": "code",
   "execution_count": 96,
   "id": "8cb7a792-d82b-4f02-9d8f-166cd37c8f7f",
   "metadata": {},
   "outputs": [
    {
     "data": {
      "text/html": [
       "<div>\n",
       "<style scoped>\n",
       "    .dataframe tbody tr th:only-of-type {\n",
       "        vertical-align: middle;\n",
       "    }\n",
       "\n",
       "    .dataframe tbody tr th {\n",
       "        vertical-align: top;\n",
       "    }\n",
       "\n",
       "    .dataframe thead th {\n",
       "        text-align: right;\n",
       "    }\n",
       "</style>\n",
       "<table border=\"1\" class=\"dataframe\">\n",
       "  <thead>\n",
       "    <tr style=\"text-align: right;\">\n",
       "      <th></th>\n",
       "      <th>Date</th>\n",
       "      <th>HomeTeam</th>\n",
       "      <th>AwayTeam</th>\n",
       "      <th>HomeGoals</th>\n",
       "      <th>AwayGoals</th>\n",
       "      <th>Winner</th>\n",
       "      <th>League</th>\n",
       "    </tr>\n",
       "  </thead>\n",
       "  <tbody>\n",
       "    <tr>\n",
       "      <th>0</th>\n",
       "      <td>1959-02-21</td>\n",
       "      <td>Genclerbirligi</td>\n",
       "      <td>Adalet</td>\n",
       "      <td>1</td>\n",
       "      <td>1</td>\n",
       "      <td>D</td>\n",
       "      <td>Turkish Super League</td>\n",
       "    </tr>\n",
       "    <tr>\n",
       "      <th>1</th>\n",
       "      <td>1959-02-21</td>\n",
       "      <td>Izmirspor</td>\n",
       "      <td>Beykoz 1908</td>\n",
       "      <td>2</td>\n",
       "      <td>1</td>\n",
       "      <td>H</td>\n",
       "      <td>Turkish Super League</td>\n",
       "    </tr>\n",
       "  </tbody>\n",
       "</table>\n",
       "</div>"
      ],
      "text/plain": [
       "         Date        HomeTeam     AwayTeam  HomeGoals  AwayGoals Winner  \\\n",
       "0  1959-02-21  Genclerbirligi       Adalet          1          1      D   \n",
       "1  1959-02-21       Izmirspor  Beykoz 1908          2          1      H   \n",
       "\n",
       "                 League  \n",
       "0  Turkish Super League  \n",
       "1  Turkish Super League  "
      ]
     },
     "execution_count": 96,
     "metadata": {},
     "output_type": "execute_result"
    }
   ],
   "source": [
    "Turkish_League_new = Turkish_League.loc[:, ['Date', 'home', 'visitor', 'hgoal', 'vgoal', 'result']]\n",
    "Turkish_League_new = Turkish_League_new.rename(columns={'home': 'HomeTeam', 'visitor': 'AwayTeam', 'hgoal': 'HomeGoals', 'vgoal': 'AwayGoals', 'result': 'Winner'})\n",
    "Turkish_League_new['Date'] = pd.to_datetime(Turkish_League_new['Date'], format='mixed').dt.strftime('%Y-%m-%d')\n",
    "Turkish_League_new['League'] = 'Turkish Super League'\n",
    "Turkish_League_new.head(2)"
   ]
  },
  {
   "cell_type": "markdown",
   "id": "b0e632fb-ef92-4052-9f9a-79faaf1cdab2",
   "metadata": {
    "jp-MarkdownHeadingCollapsed": true
   },
   "source": [
    "# **Concatenate All Datasets**"
   ]
  },
  {
   "cell_type": "code",
   "execution_count": 97,
   "id": "8cf548bf-6488-4696-aac9-6f63bd17dc33",
   "metadata": {},
   "outputs": [],
   "source": [
    "#concatenate DataFrames (Bundesliga_1993_new, Bundesliga_2005_new, France_League_new, Premier_League_new, Spanish_League_new, Turkish_League_new)\n",
    "data = pd.concat([Bundesliga_1993_new, Bundesliga_2005_new, France_League_new, Premier_League_new, Spanish_League_new, Spanish_League_1995_new, Turkish_League_new], ignore_index=True)\n",
    "\n",
    "#checks whether the length of the concatenated DataFrame data is equal to the sum of the lengths of all the individual DataFrames\n",
    "assert len(data) == len(Bundesliga_1993_new) + len(Bundesliga_2005_new) + len(France_League_new) + len(Premier_League_new) + len(Spanish_League_new) + len(Turkish_League_new) + len(Spanish_League_1995_new)"
   ]
  },
  {
   "cell_type": "code",
   "execution_count": 102,
   "id": "c03a30dc-a86f-4032-a958-939c9c5c87c7",
   "metadata": {},
   "outputs": [
    {
     "data": {
      "text/html": [
       "<div>\n",
       "<style scoped>\n",
       "    .dataframe tbody tr th:only-of-type {\n",
       "        vertical-align: middle;\n",
       "    }\n",
       "\n",
       "    .dataframe tbody tr th {\n",
       "        vertical-align: top;\n",
       "    }\n",
       "\n",
       "    .dataframe thead th {\n",
       "        text-align: right;\n",
       "    }\n",
       "</style>\n",
       "<table border=\"1\" class=\"dataframe\">\n",
       "  <thead>\n",
       "    <tr style=\"text-align: right;\">\n",
       "      <th></th>\n",
       "      <th>Date</th>\n",
       "      <th>HomeTeam</th>\n",
       "      <th>AwayTeam</th>\n",
       "      <th>HomeGoals</th>\n",
       "      <th>AwayGoals</th>\n",
       "      <th>Winner</th>\n",
       "      <th>League</th>\n",
       "      <th>Year</th>\n",
       "    </tr>\n",
       "  </thead>\n",
       "  <tbody>\n",
       "    <tr>\n",
       "      <th>0</th>\n",
       "      <td>1993-07-08</td>\n",
       "      <td>FC Bayern München</td>\n",
       "      <td>SC Freiburg</td>\n",
       "      <td>3</td>\n",
       "      <td>1</td>\n",
       "      <td>H</td>\n",
       "      <td>Bundesliga</td>\n",
       "      <td>1993</td>\n",
       "    </tr>\n",
       "    <tr>\n",
       "      <th>1</th>\n",
       "      <td>1993-07-08</td>\n",
       "      <td>Borussia Dortmund</td>\n",
       "      <td>Karlsruher SC</td>\n",
       "      <td>2</td>\n",
       "      <td>1</td>\n",
       "      <td>H</td>\n",
       "      <td>Bundesliga</td>\n",
       "      <td>1993</td>\n",
       "    </tr>\n",
       "    <tr>\n",
       "      <th>2</th>\n",
       "      <td>1993-07-08</td>\n",
       "      <td>MSV Duisburg</td>\n",
       "      <td>FC Energie Cottbus</td>\n",
       "      <td>2</td>\n",
       "      <td>2</td>\n",
       "      <td>D</td>\n",
       "      <td>Bundesliga</td>\n",
       "      <td>1993</td>\n",
       "    </tr>\n",
       "    <tr>\n",
       "      <th>3</th>\n",
       "      <td>1993-07-08</td>\n",
       "      <td>1. FC Köln</td>\n",
       "      <td>1. FC Kaiserslautern</td>\n",
       "      <td>0</td>\n",
       "      <td>2</td>\n",
       "      <td>A</td>\n",
       "      <td>Bundesliga</td>\n",
       "      <td>1993</td>\n",
       "    </tr>\n",
       "    <tr>\n",
       "      <th>4</th>\n",
       "      <td>1993-07-08</td>\n",
       "      <td>Hamburger SV</td>\n",
       "      <td>1. FC Nürnberg</td>\n",
       "      <td>5</td>\n",
       "      <td>2</td>\n",
       "      <td>H</td>\n",
       "      <td>Bundesliga</td>\n",
       "      <td>1993</td>\n",
       "    </tr>\n",
       "    <tr>\n",
       "      <th>...</th>\n",
       "      <td>...</td>\n",
       "      <td>...</td>\n",
       "      <td>...</td>\n",
       "      <td>...</td>\n",
       "      <td>...</td>\n",
       "      <td>...</td>\n",
       "      <td>...</td>\n",
       "      <td>...</td>\n",
       "    </tr>\n",
       "    <tr>\n",
       "      <th>202327</th>\n",
       "      <td>2021-10-01</td>\n",
       "      <td>Caykur Rizespor</td>\n",
       "      <td>Denizlispor</td>\n",
       "      <td>1</td>\n",
       "      <td>1</td>\n",
       "      <td>D</td>\n",
       "      <td>Turkish Super League</td>\n",
       "      <td>2021</td>\n",
       "    </tr>\n",
       "    <tr>\n",
       "      <th>202328</th>\n",
       "      <td>2021-10-01</td>\n",
       "      <td>Hatayspor</td>\n",
       "      <td>Besiktas</td>\n",
       "      <td>2</td>\n",
       "      <td>2</td>\n",
       "      <td>D</td>\n",
       "      <td>Turkish Super League</td>\n",
       "      <td>2021</td>\n",
       "    </tr>\n",
       "    <tr>\n",
       "      <th>202329</th>\n",
       "      <td>2021-11-01</td>\n",
       "      <td>BB Erzurumspor</td>\n",
       "      <td>Fenerbahce</td>\n",
       "      <td>0</td>\n",
       "      <td>3</td>\n",
       "      <td>A</td>\n",
       "      <td>Turkish Super League</td>\n",
       "      <td>2021</td>\n",
       "    </tr>\n",
       "    <tr>\n",
       "      <th>202330</th>\n",
       "      <td>2021-11-01</td>\n",
       "      <td>Alanyaspor</td>\n",
       "      <td>Kasimpasa</td>\n",
       "      <td>1</td>\n",
       "      <td>2</td>\n",
       "      <td>A</td>\n",
       "      <td>Turkish Super League</td>\n",
       "      <td>2021</td>\n",
       "    </tr>\n",
       "    <tr>\n",
       "      <th>202331</th>\n",
       "      <td>2021-01-15</td>\n",
       "      <td>Genclerbirligi</td>\n",
       "      <td>Fatih Karagumruk</td>\n",
       "      <td>1</td>\n",
       "      <td>3</td>\n",
       "      <td>A</td>\n",
       "      <td>Turkish Super League</td>\n",
       "      <td>2021</td>\n",
       "    </tr>\n",
       "  </tbody>\n",
       "</table>\n",
       "<p>202332 rows × 8 columns</p>\n",
       "</div>"
      ],
      "text/plain": [
       "             Date           HomeTeam              AwayTeam  HomeGoals  \\\n",
       "0      1993-07-08  FC Bayern München           SC Freiburg          3   \n",
       "1      1993-07-08  Borussia Dortmund         Karlsruher SC          2   \n",
       "2      1993-07-08       MSV Duisburg    FC Energie Cottbus          2   \n",
       "3      1993-07-08         1. FC Köln  1. FC Kaiserslautern          0   \n",
       "4      1993-07-08       Hamburger SV        1. FC Nürnberg          5   \n",
       "...           ...                ...                   ...        ...   \n",
       "202327 2021-10-01    Caykur Rizespor           Denizlispor          1   \n",
       "202328 2021-10-01          Hatayspor              Besiktas          2   \n",
       "202329 2021-11-01     BB Erzurumspor            Fenerbahce          0   \n",
       "202330 2021-11-01         Alanyaspor             Kasimpasa          1   \n",
       "202331 2021-01-15     Genclerbirligi      Fatih Karagumruk          1   \n",
       "\n",
       "        AwayGoals Winner                League  Year  \n",
       "0               1      H            Bundesliga  1993  \n",
       "1               1      H            Bundesliga  1993  \n",
       "2               2      D            Bundesliga  1993  \n",
       "3               2      A            Bundesliga  1993  \n",
       "4               2      H            Bundesliga  1993  \n",
       "...           ...    ...                   ...   ...  \n",
       "202327          1      D  Turkish Super League  2021  \n",
       "202328          2      D  Turkish Super League  2021  \n",
       "202329          3      A  Turkish Super League  2021  \n",
       "202330          2      A  Turkish Super League  2021  \n",
       "202331          3      A  Turkish Super League  2021  \n",
       "\n",
       "[202332 rows x 8 columns]"
      ]
     },
     "execution_count": 102,
     "metadata": {},
     "output_type": "execute_result"
    }
   ],
   "source": [
    "# add year column for easier queries\n",
    "data['Date'] = pd.to_datetime(data.Date, format='%Y-%m-%d')\n",
    "data['Year'] = data.Date.dt.year\n",
    "data"
   ]
  },
  {
   "cell_type": "code",
   "execution_count": 71,
   "id": "8b46191a-d4c4-438a-829f-1852b257af91",
   "metadata": {},
   "outputs": [
    {
     "data": {
      "text/plain": [
       "Date         0\n",
       "HomeTeam     0\n",
       "AwayTeam     0\n",
       "HomeGoals    0\n",
       "AwayGoals    0\n",
       "Winner       0\n",
       "League       0\n",
       "dtype: int64"
      ]
     },
     "execution_count": 71,
     "metadata": {},
     "output_type": "execute_result"
    }
   ],
   "source": [
    "data.isna().sum() #display the count of missing values"
   ]
  },
  {
   "cell_type": "markdown",
   "id": "a565a9d3-2511-41a3-9a80-16368c170f2d",
   "metadata": {
    "jp-MarkdownHeadingCollapsed": true
   },
   "source": [
    "# **Remove Duplicates**"
   ]
  },
  {
   "cell_type": "code",
   "execution_count": 72,
   "id": "dc350dd2-e080-43e5-b851-730ebe7a2925",
   "metadata": {},
   "outputs": [
    {
     "name": "stdout",
     "output_type": "stream",
     "text": [
      "There are 11258 duplicates\n",
      "No duplicates found after removing duplicates\n"
     ]
    }
   ],
   "source": [
    "# Checking for duplicates in the updated data\n",
    "duplicates_check = data[data.duplicated(subset=[\"Date\", \"HomeTeam\", \"AwayTeam\", \"HomeGoals\", \"AwayGoals\", \"Winner\", \"League\"], keep=False)]\n",
    "\n",
    "# Printing the duplicates (if any)\n",
    "if len(duplicates_check) == 0:\n",
    "    print(\"No duplicates found\")\n",
    "else:\n",
    "    print(f\"There are {len(duplicates_check)} duplicates\")\n",
    "\n",
    "\n",
    "# Remove duplicates \n",
    "data_no_duplicates = data.drop_duplicates(subset=[\"Date\", \"HomeTeam\", \"AwayTeam\", \"HomeGoals\", \"AwayGoals\", \"Winner\", \"League\"], keep='first')\n",
    "\n",
    "# Checking for duplicates in the updated data\n",
    "duplicates_check = data_no_duplicates[data_no_duplicates.duplicated(subset=[\"Date\", \"HomeTeam\", \"AwayTeam\", \"HomeGoals\", \"AwayGoals\", \"Winner\", \"League\"], keep=False)]\n",
    "\n",
    "# Printing the duplicates (if any)\n",
    "if len(duplicates_check) == 0:\n",
    "    print(\"No duplicates found after removing duplicates\")\n",
    "else:\n",
    "    print(\"Duplicates still exist after removing duplicates\")\n",
    "    print(duplicates_check)"
   ]
  },
  {
   "cell_type": "markdown",
   "id": "dfa486c1-315f-4a49-bd1e-7944fb2d1a99",
   "metadata": {
    "jp-MarkdownHeadingCollapsed": true
   },
   "source": [
    "# **Download the CSV File**"
   ]
  },
  {
   "cell_type": "code",
   "execution_count": 75,
   "id": "58559579-1aaf-4d16-bb29-c81e4765675c",
   "metadata": {},
   "outputs": [],
   "source": [
    "# Assuming 'data_no_duplicates' is the DataFrame you want to save\n",
    "# Replace 'file_path' with the path where you want to save the CSV file along with the desired file name\n",
    "\n",
    "file_path = 'data/data_no_duplicates.csv'  # Modify 'path_to_save' and file name as needed\n",
    "\n",
    "data_no_duplicates.to_csv(file_path, index=False)\n"
   ]
  },
  {
   "cell_type": "code",
   "execution_count": null,
   "metadata": {},
   "outputs": [],
   "source": []
  }
 ],
 "metadata": {
  "kernelspec": {
   "display_name": "Python 3 (ipykernel)",
   "language": "python",
   "name": "python3"
  },
  "language_info": {
   "codemirror_mode": {
    "name": "ipython",
    "version": 3
   },
   "file_extension": ".py",
   "mimetype": "text/x-python",
   "name": "python",
   "nbconvert_exporter": "python",
   "pygments_lexer": "ipython3",
   "version": "3.10.11"
  }
 },
 "nbformat": 4,
 "nbformat_minor": 5
}
